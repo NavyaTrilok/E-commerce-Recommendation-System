{
 "cells": [
  {
   "cell_type": "code",
   "execution_count": 261,
   "id": "0a9c39f5",
   "metadata": {},
   "outputs": [],
   "source": [
    "import pandas as pd\n",
    "import numpy as np\n",
    "import matplotlib.pyplot as plt\n",
    "import datetime\n",
    "import seaborn as sns\n",
    "from sklearn.model_selection import train_test_split\n",
    "from sklearn.linear_model import LinearRegression, LogisticRegression\n",
    "from sklearn.metrics import r2_score, ConfusionMatrixDisplay\n",
    "from sklearn import metrics"
   ]
  },
  {
   "cell_type": "code",
   "execution_count": 3,
   "id": "972f3402",
   "metadata": {},
   "outputs": [
    {
     "data": {
      "text/html": [
       "<div>\n",
       "<style scoped>\n",
       "    .dataframe tbody tr th:only-of-type {\n",
       "        vertical-align: middle;\n",
       "    }\n",
       "\n",
       "    .dataframe tbody tr th {\n",
       "        vertical-align: top;\n",
       "    }\n",
       "\n",
       "    .dataframe thead th {\n",
       "        text-align: right;\n",
       "    }\n",
       "</style>\n",
       "<table border=\"1\" class=\"dataframe\">\n",
       "  <thead>\n",
       "    <tr style=\"text-align: right;\">\n",
       "      <th></th>\n",
       "      <th>categoryid</th>\n",
       "      <th>parentid</th>\n",
       "    </tr>\n",
       "  </thead>\n",
       "  <tbody>\n",
       "    <tr>\n",
       "      <th>0</th>\n",
       "      <td>1016</td>\n",
       "      <td>213.0</td>\n",
       "    </tr>\n",
       "    <tr>\n",
       "      <th>1</th>\n",
       "      <td>809</td>\n",
       "      <td>169.0</td>\n",
       "    </tr>\n",
       "    <tr>\n",
       "      <th>2</th>\n",
       "      <td>570</td>\n",
       "      <td>9.0</td>\n",
       "    </tr>\n",
       "    <tr>\n",
       "      <th>3</th>\n",
       "      <td>1691</td>\n",
       "      <td>885.0</td>\n",
       "    </tr>\n",
       "    <tr>\n",
       "      <th>4</th>\n",
       "      <td>536</td>\n",
       "      <td>1691.0</td>\n",
       "    </tr>\n",
       "    <tr>\n",
       "      <th>...</th>\n",
       "      <td>...</td>\n",
       "      <td>...</td>\n",
       "    </tr>\n",
       "    <tr>\n",
       "      <th>1664</th>\n",
       "      <td>49</td>\n",
       "      <td>1125.0</td>\n",
       "    </tr>\n",
       "    <tr>\n",
       "      <th>1665</th>\n",
       "      <td>1112</td>\n",
       "      <td>630.0</td>\n",
       "    </tr>\n",
       "    <tr>\n",
       "      <th>1666</th>\n",
       "      <td>1336</td>\n",
       "      <td>745.0</td>\n",
       "    </tr>\n",
       "    <tr>\n",
       "      <th>1667</th>\n",
       "      <td>689</td>\n",
       "      <td>207.0</td>\n",
       "    </tr>\n",
       "    <tr>\n",
       "      <th>1668</th>\n",
       "      <td>761</td>\n",
       "      <td>395.0</td>\n",
       "    </tr>\n",
       "  </tbody>\n",
       "</table>\n",
       "<p>1669 rows × 2 columns</p>\n",
       "</div>"
      ],
      "text/plain": [
       "      categoryid  parentid\n",
       "0           1016     213.0\n",
       "1            809     169.0\n",
       "2            570       9.0\n",
       "3           1691     885.0\n",
       "4            536    1691.0\n",
       "...          ...       ...\n",
       "1664          49    1125.0\n",
       "1665        1112     630.0\n",
       "1666        1336     745.0\n",
       "1667         689     207.0\n",
       "1668         761     395.0\n",
       "\n",
       "[1669 rows x 2 columns]"
      ]
     },
     "execution_count": 3,
     "metadata": {},
     "output_type": "execute_result"
    }
   ],
   "source": [
    "category = pd.read_csv('/Users/navyatrilok/Documents/DATASCIENCE/Kaggle/RetailRocket-Recommender-Systems/category_tree.csv')\n",
    "category"
   ]
  },
  {
   "cell_type": "code",
   "execution_count": 4,
   "id": "6a20eced",
   "metadata": {},
   "outputs": [],
   "source": [
    "events = pd.read_csv('/Users/navyatrilok/Documents/DATASCIENCE/Kaggle/RetailRocket-Recommender-Systems/events.csv')"
   ]
  },
  {
   "cell_type": "code",
   "execution_count": 5,
   "id": "a086168a",
   "metadata": {},
   "outputs": [
    {
     "data": {
      "text/html": [
       "<div>\n",
       "<style scoped>\n",
       "    .dataframe tbody tr th:only-of-type {\n",
       "        vertical-align: middle;\n",
       "    }\n",
       "\n",
       "    .dataframe tbody tr th {\n",
       "        vertical-align: top;\n",
       "    }\n",
       "\n",
       "    .dataframe thead th {\n",
       "        text-align: right;\n",
       "    }\n",
       "</style>\n",
       "<table border=\"1\" class=\"dataframe\">\n",
       "  <thead>\n",
       "    <tr style=\"text-align: right;\">\n",
       "      <th></th>\n",
       "      <th>timestamp</th>\n",
       "      <th>visitorid</th>\n",
       "      <th>event</th>\n",
       "      <th>itemid</th>\n",
       "      <th>transactionid</th>\n",
       "    </tr>\n",
       "  </thead>\n",
       "  <tbody>\n",
       "    <tr>\n",
       "      <th>0</th>\n",
       "      <td>1433221332117</td>\n",
       "      <td>257597</td>\n",
       "      <td>view</td>\n",
       "      <td>355908</td>\n",
       "      <td>NaN</td>\n",
       "    </tr>\n",
       "    <tr>\n",
       "      <th>1</th>\n",
       "      <td>1433224214164</td>\n",
       "      <td>992329</td>\n",
       "      <td>view</td>\n",
       "      <td>248676</td>\n",
       "      <td>NaN</td>\n",
       "    </tr>\n",
       "    <tr>\n",
       "      <th>2</th>\n",
       "      <td>1433221999827</td>\n",
       "      <td>111016</td>\n",
       "      <td>view</td>\n",
       "      <td>318965</td>\n",
       "      <td>NaN</td>\n",
       "    </tr>\n",
       "    <tr>\n",
       "      <th>3</th>\n",
       "      <td>1433221955914</td>\n",
       "      <td>483717</td>\n",
       "      <td>view</td>\n",
       "      <td>253185</td>\n",
       "      <td>NaN</td>\n",
       "    </tr>\n",
       "    <tr>\n",
       "      <th>4</th>\n",
       "      <td>1433221337106</td>\n",
       "      <td>951259</td>\n",
       "      <td>view</td>\n",
       "      <td>367447</td>\n",
       "      <td>NaN</td>\n",
       "    </tr>\n",
       "  </tbody>\n",
       "</table>\n",
       "</div>"
      ],
      "text/plain": [
       "       timestamp  visitorid event  itemid  transactionid\n",
       "0  1433221332117     257597  view  355908            NaN\n",
       "1  1433224214164     992329  view  248676            NaN\n",
       "2  1433221999827     111016  view  318965            NaN\n",
       "3  1433221955914     483717  view  253185            NaN\n",
       "4  1433221337106     951259  view  367447            NaN"
      ]
     },
     "execution_count": 5,
     "metadata": {},
     "output_type": "execute_result"
    }
   ],
   "source": [
    "events.head()"
   ]
  },
  {
   "cell_type": "code",
   "execution_count": 6,
   "id": "44f252ae",
   "metadata": {},
   "outputs": [],
   "source": [
    "item_properties_1 = pd.read_csv('/Users/navyatrilok/Documents/DATASCIENCE/Kaggle/RetailRocket-Recommender-Systems/item_properties_part1.csv')"
   ]
  },
  {
   "cell_type": "code",
   "execution_count": 7,
   "id": "24f7e41f",
   "metadata": {},
   "outputs": [
    {
     "data": {
      "text/html": [
       "<div>\n",
       "<style scoped>\n",
       "    .dataframe tbody tr th:only-of-type {\n",
       "        vertical-align: middle;\n",
       "    }\n",
       "\n",
       "    .dataframe tbody tr th {\n",
       "        vertical-align: top;\n",
       "    }\n",
       "\n",
       "    .dataframe thead th {\n",
       "        text-align: right;\n",
       "    }\n",
       "</style>\n",
       "<table border=\"1\" class=\"dataframe\">\n",
       "  <thead>\n",
       "    <tr style=\"text-align: right;\">\n",
       "      <th></th>\n",
       "      <th>timestamp</th>\n",
       "      <th>itemid</th>\n",
       "      <th>property</th>\n",
       "      <th>value</th>\n",
       "    </tr>\n",
       "  </thead>\n",
       "  <tbody>\n",
       "    <tr>\n",
       "      <th>0</th>\n",
       "      <td>1435460400000</td>\n",
       "      <td>460429</td>\n",
       "      <td>categoryid</td>\n",
       "      <td>1338</td>\n",
       "    </tr>\n",
       "    <tr>\n",
       "      <th>1</th>\n",
       "      <td>1441508400000</td>\n",
       "      <td>206783</td>\n",
       "      <td>888</td>\n",
       "      <td>1116713 960601 n277.200</td>\n",
       "    </tr>\n",
       "    <tr>\n",
       "      <th>2</th>\n",
       "      <td>1439089200000</td>\n",
       "      <td>395014</td>\n",
       "      <td>400</td>\n",
       "      <td>n552.000 639502 n720.000 424566</td>\n",
       "    </tr>\n",
       "    <tr>\n",
       "      <th>3</th>\n",
       "      <td>1431226800000</td>\n",
       "      <td>59481</td>\n",
       "      <td>790</td>\n",
       "      <td>n15360.000</td>\n",
       "    </tr>\n",
       "    <tr>\n",
       "      <th>4</th>\n",
       "      <td>1431831600000</td>\n",
       "      <td>156781</td>\n",
       "      <td>917</td>\n",
       "      <td>828513</td>\n",
       "    </tr>\n",
       "  </tbody>\n",
       "</table>\n",
       "</div>"
      ],
      "text/plain": [
       "       timestamp  itemid    property                            value\n",
       "0  1435460400000  460429  categoryid                             1338\n",
       "1  1441508400000  206783         888          1116713 960601 n277.200\n",
       "2  1439089200000  395014         400  n552.000 639502 n720.000 424566\n",
       "3  1431226800000   59481         790                       n15360.000\n",
       "4  1431831600000  156781         917                           828513"
      ]
     },
     "execution_count": 7,
     "metadata": {},
     "output_type": "execute_result"
    }
   ],
   "source": [
    "item_properties_1.head()"
   ]
  },
  {
   "cell_type": "code",
   "execution_count": 8,
   "id": "fcfeefeb",
   "metadata": {},
   "outputs": [
    {
     "data": {
      "text/html": [
       "<div>\n",
       "<style scoped>\n",
       "    .dataframe tbody tr th:only-of-type {\n",
       "        vertical-align: middle;\n",
       "    }\n",
       "\n",
       "    .dataframe tbody tr th {\n",
       "        vertical-align: top;\n",
       "    }\n",
       "\n",
       "    .dataframe thead th {\n",
       "        text-align: right;\n",
       "    }\n",
       "</style>\n",
       "<table border=\"1\" class=\"dataframe\">\n",
       "  <thead>\n",
       "    <tr style=\"text-align: right;\">\n",
       "      <th></th>\n",
       "      <th>timestamp</th>\n",
       "      <th>itemid</th>\n",
       "      <th>property</th>\n",
       "      <th>value</th>\n",
       "    </tr>\n",
       "  </thead>\n",
       "  <tbody>\n",
       "    <tr>\n",
       "      <th>0</th>\n",
       "      <td>1435460400000</td>\n",
       "      <td>460429</td>\n",
       "      <td>categoryid</td>\n",
       "      <td>1338</td>\n",
       "    </tr>\n",
       "    <tr>\n",
       "      <th>1</th>\n",
       "      <td>1441508400000</td>\n",
       "      <td>206783</td>\n",
       "      <td>888</td>\n",
       "      <td>1116713 960601 n277.200</td>\n",
       "    </tr>\n",
       "    <tr>\n",
       "      <th>2</th>\n",
       "      <td>1439089200000</td>\n",
       "      <td>395014</td>\n",
       "      <td>400</td>\n",
       "      <td>n552.000 639502 n720.000 424566</td>\n",
       "    </tr>\n",
       "    <tr>\n",
       "      <th>3</th>\n",
       "      <td>1431226800000</td>\n",
       "      <td>59481</td>\n",
       "      <td>790</td>\n",
       "      <td>n15360.000</td>\n",
       "    </tr>\n",
       "    <tr>\n",
       "      <th>4</th>\n",
       "      <td>1431831600000</td>\n",
       "      <td>156781</td>\n",
       "      <td>917</td>\n",
       "      <td>828513</td>\n",
       "    </tr>\n",
       "    <tr>\n",
       "      <th>...</th>\n",
       "      <td>...</td>\n",
       "      <td>...</td>\n",
       "      <td>...</td>\n",
       "      <td>...</td>\n",
       "    </tr>\n",
       "    <tr>\n",
       "      <th>10999994</th>\n",
       "      <td>1439694000000</td>\n",
       "      <td>86599</td>\n",
       "      <td>categoryid</td>\n",
       "      <td>618</td>\n",
       "    </tr>\n",
       "    <tr>\n",
       "      <th>10999995</th>\n",
       "      <td>1435460400000</td>\n",
       "      <td>153032</td>\n",
       "      <td>1066</td>\n",
       "      <td>n1020.000 424566</td>\n",
       "    </tr>\n",
       "    <tr>\n",
       "      <th>10999996</th>\n",
       "      <td>1440298800000</td>\n",
       "      <td>421788</td>\n",
       "      <td>888</td>\n",
       "      <td>35975 856003 37346</td>\n",
       "    </tr>\n",
       "    <tr>\n",
       "      <th>10999997</th>\n",
       "      <td>1437879600000</td>\n",
       "      <td>159792</td>\n",
       "      <td>400</td>\n",
       "      <td>n552.000 639502 n720.000 424566</td>\n",
       "    </tr>\n",
       "    <tr>\n",
       "      <th>10999998</th>\n",
       "      <td>1436065200000</td>\n",
       "      <td>464846</td>\n",
       "      <td>790</td>\n",
       "      <td>n410640.000</td>\n",
       "    </tr>\n",
       "  </tbody>\n",
       "</table>\n",
       "<p>10999999 rows × 4 columns</p>\n",
       "</div>"
      ],
      "text/plain": [
       "              timestamp  itemid    property                            value\n",
       "0         1435460400000  460429  categoryid                             1338\n",
       "1         1441508400000  206783         888          1116713 960601 n277.200\n",
       "2         1439089200000  395014         400  n552.000 639502 n720.000 424566\n",
       "3         1431226800000   59481         790                       n15360.000\n",
       "4         1431831600000  156781         917                           828513\n",
       "...                 ...     ...         ...                              ...\n",
       "10999994  1439694000000   86599  categoryid                              618\n",
       "10999995  1435460400000  153032        1066                 n1020.000 424566\n",
       "10999996  1440298800000  421788         888               35975 856003 37346\n",
       "10999997  1437879600000  159792         400  n552.000 639502 n720.000 424566\n",
       "10999998  1436065200000  464846         790                      n410640.000\n",
       "\n",
       "[10999999 rows x 4 columns]"
      ]
     },
     "execution_count": 8,
     "metadata": {},
     "output_type": "execute_result"
    }
   ],
   "source": [
    "item_properties_1"
   ]
  },
  {
   "cell_type": "code",
   "execution_count": 9,
   "id": "84a5717f",
   "metadata": {},
   "outputs": [],
   "source": [
    "item_properties_2 = pd.read_csv('/Users/navyatrilok/Documents/DATASCIENCE/Kaggle/RetailRocket-Recommender-Systems/item_properties_part2.csv')"
   ]
  },
  {
   "cell_type": "code",
   "execution_count": 10,
   "id": "2fba507d",
   "metadata": {},
   "outputs": [
    {
     "data": {
      "text/html": [
       "<div>\n",
       "<style scoped>\n",
       "    .dataframe tbody tr th:only-of-type {\n",
       "        vertical-align: middle;\n",
       "    }\n",
       "\n",
       "    .dataframe tbody tr th {\n",
       "        vertical-align: top;\n",
       "    }\n",
       "\n",
       "    .dataframe thead th {\n",
       "        text-align: right;\n",
       "    }\n",
       "</style>\n",
       "<table border=\"1\" class=\"dataframe\">\n",
       "  <thead>\n",
       "    <tr style=\"text-align: right;\">\n",
       "      <th></th>\n",
       "      <th>timestamp</th>\n",
       "      <th>itemid</th>\n",
       "      <th>property</th>\n",
       "      <th>value</th>\n",
       "    </tr>\n",
       "  </thead>\n",
       "  <tbody>\n",
       "    <tr>\n",
       "      <th>0</th>\n",
       "      <td>1433041200000</td>\n",
       "      <td>183478</td>\n",
       "      <td>561</td>\n",
       "      <td>769062</td>\n",
       "    </tr>\n",
       "    <tr>\n",
       "      <th>1</th>\n",
       "      <td>1439694000000</td>\n",
       "      <td>132256</td>\n",
       "      <td>976</td>\n",
       "      <td>n26.400 1135780</td>\n",
       "    </tr>\n",
       "    <tr>\n",
       "      <th>2</th>\n",
       "      <td>1435460400000</td>\n",
       "      <td>420307</td>\n",
       "      <td>921</td>\n",
       "      <td>1149317 1257525</td>\n",
       "    </tr>\n",
       "    <tr>\n",
       "      <th>3</th>\n",
       "      <td>1431831600000</td>\n",
       "      <td>403324</td>\n",
       "      <td>917</td>\n",
       "      <td>1204143</td>\n",
       "    </tr>\n",
       "    <tr>\n",
       "      <th>4</th>\n",
       "      <td>1435460400000</td>\n",
       "      <td>230701</td>\n",
       "      <td>521</td>\n",
       "      <td>769062</td>\n",
       "    </tr>\n",
       "  </tbody>\n",
       "</table>\n",
       "</div>"
      ],
      "text/plain": [
       "       timestamp  itemid property            value\n",
       "0  1433041200000  183478      561           769062\n",
       "1  1439694000000  132256      976  n26.400 1135780\n",
       "2  1435460400000  420307      921  1149317 1257525\n",
       "3  1431831600000  403324      917          1204143\n",
       "4  1435460400000  230701      521           769062"
      ]
     },
     "execution_count": 10,
     "metadata": {},
     "output_type": "execute_result"
    }
   ],
   "source": [
    "item_properties_2.head()"
   ]
  },
  {
   "cell_type": "code",
   "execution_count": 11,
   "id": "8235ecb6",
   "metadata": {},
   "outputs": [
    {
     "data": {
      "text/html": [
       "<div>\n",
       "<style scoped>\n",
       "    .dataframe tbody tr th:only-of-type {\n",
       "        vertical-align: middle;\n",
       "    }\n",
       "\n",
       "    .dataframe tbody tr th {\n",
       "        vertical-align: top;\n",
       "    }\n",
       "\n",
       "    .dataframe thead th {\n",
       "        text-align: right;\n",
       "    }\n",
       "</style>\n",
       "<table border=\"1\" class=\"dataframe\">\n",
       "  <thead>\n",
       "    <tr style=\"text-align: right;\">\n",
       "      <th></th>\n",
       "      <th>timestamp</th>\n",
       "      <th>visitorid</th>\n",
       "      <th>event</th>\n",
       "      <th>itemid</th>\n",
       "      <th>transactionid</th>\n",
       "    </tr>\n",
       "  </thead>\n",
       "  <tbody>\n",
       "    <tr>\n",
       "      <th>0</th>\n",
       "      <td>1433221332117</td>\n",
       "      <td>257597</td>\n",
       "      <td>view</td>\n",
       "      <td>355908</td>\n",
       "      <td>NaN</td>\n",
       "    </tr>\n",
       "    <tr>\n",
       "      <th>1</th>\n",
       "      <td>1433224214164</td>\n",
       "      <td>992329</td>\n",
       "      <td>view</td>\n",
       "      <td>248676</td>\n",
       "      <td>NaN</td>\n",
       "    </tr>\n",
       "    <tr>\n",
       "      <th>2</th>\n",
       "      <td>1433221999827</td>\n",
       "      <td>111016</td>\n",
       "      <td>view</td>\n",
       "      <td>318965</td>\n",
       "      <td>NaN</td>\n",
       "    </tr>\n",
       "    <tr>\n",
       "      <th>3</th>\n",
       "      <td>1433221955914</td>\n",
       "      <td>483717</td>\n",
       "      <td>view</td>\n",
       "      <td>253185</td>\n",
       "      <td>NaN</td>\n",
       "    </tr>\n",
       "    <tr>\n",
       "      <th>4</th>\n",
       "      <td>1433221337106</td>\n",
       "      <td>951259</td>\n",
       "      <td>view</td>\n",
       "      <td>367447</td>\n",
       "      <td>NaN</td>\n",
       "    </tr>\n",
       "  </tbody>\n",
       "</table>\n",
       "</div>"
      ],
      "text/plain": [
       "       timestamp  visitorid event  itemid  transactionid\n",
       "0  1433221332117     257597  view  355908            NaN\n",
       "1  1433224214164     992329  view  248676            NaN\n",
       "2  1433221999827     111016  view  318965            NaN\n",
       "3  1433221955914     483717  view  253185            NaN\n",
       "4  1433221337106     951259  view  367447            NaN"
      ]
     },
     "execution_count": 11,
     "metadata": {},
     "output_type": "execute_result"
    }
   ],
   "source": [
    "events.head()"
   ]
  },
  {
   "cell_type": "markdown",
   "id": "9bade0a0",
   "metadata": {},
   "source": [
    "Which events have transactionid not null?"
   ]
  },
  {
   "cell_type": "code",
   "execution_count": 12,
   "id": "3e132839",
   "metadata": {},
   "outputs": [
    {
     "data": {
      "text/plain": [
       "array(['transaction'], dtype=object)"
      ]
     },
     "execution_count": 12,
     "metadata": {},
     "output_type": "execute_result"
    }
   ],
   "source": [
    "events[events.transactionid.notna()].event.unique()"
   ]
  },
  {
   "cell_type": "markdown",
   "id": "81bfc055",
   "metadata": {},
   "source": [
    "Which events have transactionid null?"
   ]
  },
  {
   "cell_type": "code",
   "execution_count": null,
   "id": "a562ddb5",
   "metadata": {},
   "outputs": [],
   "source": [
    "the rows where transaction id is not null are the events of just viewing or add to cart"
   ]
  },
  {
   "cell_type": "code",
   "execution_count": 13,
   "id": "6eda3b26",
   "metadata": {},
   "outputs": [
    {
     "data": {
      "text/plain": [
       "array(['view', 'addtocart'], dtype=object)"
      ]
     },
     "execution_count": 13,
     "metadata": {},
     "output_type": "execute_result"
    }
   ],
   "source": [
    "events[events.transactionid.isnull()].event.unique()"
   ]
  },
  {
   "cell_type": "markdown",
   "id": "6deab584",
   "metadata": {},
   "source": [
    "The events where transactionid is null are the events of view and addtocart"
   ]
  },
  {
   "cell_type": "code",
   "execution_count": 14,
   "id": "9fb74ee7",
   "metadata": {},
   "outputs": [
    {
     "data": {
      "text/html": [
       "<div>\n",
       "<style scoped>\n",
       "    .dataframe tbody tr th:only-of-type {\n",
       "        vertical-align: middle;\n",
       "    }\n",
       "\n",
       "    .dataframe tbody tr th {\n",
       "        vertical-align: top;\n",
       "    }\n",
       "\n",
       "    .dataframe thead th {\n",
       "        text-align: right;\n",
       "    }\n",
       "</style>\n",
       "<table border=\"1\" class=\"dataframe\">\n",
       "  <thead>\n",
       "    <tr style=\"text-align: right;\">\n",
       "      <th></th>\n",
       "      <th>categoryid</th>\n",
       "      <th>parentid</th>\n",
       "    </tr>\n",
       "  </thead>\n",
       "  <tbody>\n",
       "    <tr>\n",
       "      <th>0</th>\n",
       "      <td>1016</td>\n",
       "      <td>213.0</td>\n",
       "    </tr>\n",
       "    <tr>\n",
       "      <th>1</th>\n",
       "      <td>809</td>\n",
       "      <td>169.0</td>\n",
       "    </tr>\n",
       "    <tr>\n",
       "      <th>2</th>\n",
       "      <td>570</td>\n",
       "      <td>9.0</td>\n",
       "    </tr>\n",
       "    <tr>\n",
       "      <th>3</th>\n",
       "      <td>1691</td>\n",
       "      <td>885.0</td>\n",
       "    </tr>\n",
       "    <tr>\n",
       "      <th>4</th>\n",
       "      <td>536</td>\n",
       "      <td>1691.0</td>\n",
       "    </tr>\n",
       "  </tbody>\n",
       "</table>\n",
       "</div>"
      ],
      "text/plain": [
       "   categoryid  parentid\n",
       "0        1016     213.0\n",
       "1         809     169.0\n",
       "2         570       9.0\n",
       "3        1691     885.0\n",
       "4         536    1691.0"
      ]
     },
     "execution_count": 14,
     "metadata": {},
     "output_type": "execute_result"
    }
   ],
   "source": [
    "category.head()"
   ]
  },
  {
   "cell_type": "markdown",
   "id": "1464469b",
   "metadata": {},
   "source": [
    "What are the items under categoryid 1016?"
   ]
  },
  {
   "cell_type": "code",
   "execution_count": 15,
   "id": "7914c654",
   "metadata": {},
   "outputs": [
    {
     "data": {
      "text/html": [
       "<div>\n",
       "<style scoped>\n",
       "    .dataframe tbody tr th:only-of-type {\n",
       "        vertical-align: middle;\n",
       "    }\n",
       "\n",
       "    .dataframe tbody tr th {\n",
       "        vertical-align: top;\n",
       "    }\n",
       "\n",
       "    .dataframe thead th {\n",
       "        text-align: right;\n",
       "    }\n",
       "</style>\n",
       "<table border=\"1\" class=\"dataframe\">\n",
       "  <thead>\n",
       "    <tr style=\"text-align: right;\">\n",
       "      <th></th>\n",
       "      <th>timestamp</th>\n",
       "      <th>itemid</th>\n",
       "      <th>property</th>\n",
       "      <th>value</th>\n",
       "    </tr>\n",
       "  </thead>\n",
       "  <tbody>\n",
       "    <tr>\n",
       "      <th>6363096</th>\n",
       "      <td>1431226800000</td>\n",
       "      <td>339403</td>\n",
       "      <td>categoryid</td>\n",
       "      <td>1016</td>\n",
       "    </tr>\n",
       "    <tr>\n",
       "      <th>8597591</th>\n",
       "      <td>1431226800000</td>\n",
       "      <td>161686</td>\n",
       "      <td>categoryid</td>\n",
       "      <td>1016</td>\n",
       "    </tr>\n",
       "    <tr>\n",
       "      <th>7942027</th>\n",
       "      <td>1431226800000</td>\n",
       "      <td>418837</td>\n",
       "      <td>categoryid</td>\n",
       "      <td>1016</td>\n",
       "    </tr>\n",
       "    <tr>\n",
       "      <th>10230975</th>\n",
       "      <td>1431226800000</td>\n",
       "      <td>85538</td>\n",
       "      <td>categoryid</td>\n",
       "      <td>1016</td>\n",
       "    </tr>\n",
       "    <tr>\n",
       "      <th>7280176</th>\n",
       "      <td>1431226800000</td>\n",
       "      <td>278463</td>\n",
       "      <td>categoryid</td>\n",
       "      <td>1016</td>\n",
       "    </tr>\n",
       "    <tr>\n",
       "      <th>5003646</th>\n",
       "      <td>1431226800000</td>\n",
       "      <td>36918</td>\n",
       "      <td>categoryid</td>\n",
       "      <td>1016</td>\n",
       "    </tr>\n",
       "    <tr>\n",
       "      <th>4497603</th>\n",
       "      <td>1431226800000</td>\n",
       "      <td>390209</td>\n",
       "      <td>categoryid</td>\n",
       "      <td>1016</td>\n",
       "    </tr>\n",
       "    <tr>\n",
       "      <th>9496408</th>\n",
       "      <td>1431226800000</td>\n",
       "      <td>276491</td>\n",
       "      <td>categoryid</td>\n",
       "      <td>1016</td>\n",
       "    </tr>\n",
       "    <tr>\n",
       "      <th>3826363</th>\n",
       "      <td>1431226800000</td>\n",
       "      <td>373242</td>\n",
       "      <td>categoryid</td>\n",
       "      <td>1016</td>\n",
       "    </tr>\n",
       "    <tr>\n",
       "      <th>9715378</th>\n",
       "      <td>1431226800000</td>\n",
       "      <td>90376</td>\n",
       "      <td>categoryid</td>\n",
       "      <td>1016</td>\n",
       "    </tr>\n",
       "    <tr>\n",
       "      <th>3373937</th>\n",
       "      <td>1431226800000</td>\n",
       "      <td>312837</td>\n",
       "      <td>categoryid</td>\n",
       "      <td>1016</td>\n",
       "    </tr>\n",
       "    <tr>\n",
       "      <th>2105129</th>\n",
       "      <td>1431226800000</td>\n",
       "      <td>377283</td>\n",
       "      <td>categoryid</td>\n",
       "      <td>1016</td>\n",
       "    </tr>\n",
       "    <tr>\n",
       "      <th>970935</th>\n",
       "      <td>1431226800000</td>\n",
       "      <td>362999</td>\n",
       "      <td>categoryid</td>\n",
       "      <td>1016</td>\n",
       "    </tr>\n",
       "    <tr>\n",
       "      <th>7367849</th>\n",
       "      <td>1431831600000</td>\n",
       "      <td>138777</td>\n",
       "      <td>categoryid</td>\n",
       "      <td>1016</td>\n",
       "    </tr>\n",
       "    <tr>\n",
       "      <th>9453396</th>\n",
       "      <td>1431831600000</td>\n",
       "      <td>220116</td>\n",
       "      <td>categoryid</td>\n",
       "      <td>1016</td>\n",
       "    </tr>\n",
       "    <tr>\n",
       "      <th>10332313</th>\n",
       "      <td>1432436400000</td>\n",
       "      <td>181587</td>\n",
       "      <td>categoryid</td>\n",
       "      <td>1016</td>\n",
       "    </tr>\n",
       "    <tr>\n",
       "      <th>3397695</th>\n",
       "      <td>1432436400000</td>\n",
       "      <td>125521</td>\n",
       "      <td>categoryid</td>\n",
       "      <td>1016</td>\n",
       "    </tr>\n",
       "    <tr>\n",
       "      <th>3874245</th>\n",
       "      <td>1433041200000</td>\n",
       "      <td>350255</td>\n",
       "      <td>categoryid</td>\n",
       "      <td>1016</td>\n",
       "    </tr>\n",
       "    <tr>\n",
       "      <th>2886689</th>\n",
       "      <td>1433041200000</td>\n",
       "      <td>464482</td>\n",
       "      <td>categoryid</td>\n",
       "      <td>1016</td>\n",
       "    </tr>\n",
       "    <tr>\n",
       "      <th>2321104</th>\n",
       "      <td>1433041200000</td>\n",
       "      <td>187263</td>\n",
       "      <td>categoryid</td>\n",
       "      <td>1016</td>\n",
       "    </tr>\n",
       "    <tr>\n",
       "      <th>783306</th>\n",
       "      <td>1433041200000</td>\n",
       "      <td>235999</td>\n",
       "      <td>categoryid</td>\n",
       "      <td>1016</td>\n",
       "    </tr>\n",
       "    <tr>\n",
       "      <th>676270</th>\n",
       "      <td>1433041200000</td>\n",
       "      <td>29689</td>\n",
       "      <td>categoryid</td>\n",
       "      <td>1016</td>\n",
       "    </tr>\n",
       "    <tr>\n",
       "      <th>10256565</th>\n",
       "      <td>1433041200000</td>\n",
       "      <td>46702</td>\n",
       "      <td>categoryid</td>\n",
       "      <td>1016</td>\n",
       "    </tr>\n",
       "    <tr>\n",
       "      <th>9179707</th>\n",
       "      <td>1433041200000</td>\n",
       "      <td>339754</td>\n",
       "      <td>categoryid</td>\n",
       "      <td>1016</td>\n",
       "    </tr>\n",
       "    <tr>\n",
       "      <th>4094101</th>\n",
       "      <td>1433646000000</td>\n",
       "      <td>186663</td>\n",
       "      <td>categoryid</td>\n",
       "      <td>1016</td>\n",
       "    </tr>\n",
       "    <tr>\n",
       "      <th>9717893</th>\n",
       "      <td>1435460400000</td>\n",
       "      <td>360044</td>\n",
       "      <td>categoryid</td>\n",
       "      <td>1016</td>\n",
       "    </tr>\n",
       "    <tr>\n",
       "      <th>234908</th>\n",
       "      <td>1435460400000</td>\n",
       "      <td>73730</td>\n",
       "      <td>categoryid</td>\n",
       "      <td>1016</td>\n",
       "    </tr>\n",
       "    <tr>\n",
       "      <th>7399071</th>\n",
       "      <td>1435460400000</td>\n",
       "      <td>98949</td>\n",
       "      <td>categoryid</td>\n",
       "      <td>1016</td>\n",
       "    </tr>\n",
       "    <tr>\n",
       "      <th>430468</th>\n",
       "      <td>1435460400000</td>\n",
       "      <td>201154</td>\n",
       "      <td>categoryid</td>\n",
       "      <td>1016</td>\n",
       "    </tr>\n",
       "    <tr>\n",
       "      <th>7469403</th>\n",
       "      <td>1435460400000</td>\n",
       "      <td>190569</td>\n",
       "      <td>categoryid</td>\n",
       "      <td>1016</td>\n",
       "    </tr>\n",
       "    <tr>\n",
       "      <th>10365921</th>\n",
       "      <td>1435460400000</td>\n",
       "      <td>209439</td>\n",
       "      <td>categoryid</td>\n",
       "      <td>1016</td>\n",
       "    </tr>\n",
       "  </tbody>\n",
       "</table>\n",
       "</div>"
      ],
      "text/plain": [
       "              timestamp  itemid    property value\n",
       "6363096   1431226800000  339403  categoryid  1016\n",
       "8597591   1431226800000  161686  categoryid  1016\n",
       "7942027   1431226800000  418837  categoryid  1016\n",
       "10230975  1431226800000   85538  categoryid  1016\n",
       "7280176   1431226800000  278463  categoryid  1016\n",
       "5003646   1431226800000   36918  categoryid  1016\n",
       "4497603   1431226800000  390209  categoryid  1016\n",
       "9496408   1431226800000  276491  categoryid  1016\n",
       "3826363   1431226800000  373242  categoryid  1016\n",
       "9715378   1431226800000   90376  categoryid  1016\n",
       "3373937   1431226800000  312837  categoryid  1016\n",
       "2105129   1431226800000  377283  categoryid  1016\n",
       "970935    1431226800000  362999  categoryid  1016\n",
       "7367849   1431831600000  138777  categoryid  1016\n",
       "9453396   1431831600000  220116  categoryid  1016\n",
       "10332313  1432436400000  181587  categoryid  1016\n",
       "3397695   1432436400000  125521  categoryid  1016\n",
       "3874245   1433041200000  350255  categoryid  1016\n",
       "2886689   1433041200000  464482  categoryid  1016\n",
       "2321104   1433041200000  187263  categoryid  1016\n",
       "783306    1433041200000  235999  categoryid  1016\n",
       "676270    1433041200000   29689  categoryid  1016\n",
       "10256565  1433041200000   46702  categoryid  1016\n",
       "9179707   1433041200000  339754  categoryid  1016\n",
       "4094101   1433646000000  186663  categoryid  1016\n",
       "9717893   1435460400000  360044  categoryid  1016\n",
       "234908    1435460400000   73730  categoryid  1016\n",
       "7399071   1435460400000   98949  categoryid  1016\n",
       "430468    1435460400000  201154  categoryid  1016\n",
       "7469403   1435460400000  190569  categoryid  1016\n",
       "10365921  1435460400000  209439  categoryid  1016"
      ]
     },
     "execution_count": 15,
     "metadata": {},
     "output_type": "execute_result"
    }
   ],
   "source": [
    "item_properties_1.loc[(item_properties_1.property == 'categoryid') & (item_properties_1.value == '1016')].sort_values(by='timestamp')"
   ]
  },
  {
   "cell_type": "code",
   "execution_count": 16,
   "id": "9c5b2b69",
   "metadata": {},
   "outputs": [
    {
     "data": {
      "text/plain": [
       "array(['categoryid', '888', '400', ..., '424', '494', '712'], dtype=object)"
      ]
     },
     "execution_count": 16,
     "metadata": {},
     "output_type": "execute_result"
    }
   ],
   "source": [
    "item_properties_1.property.unique()"
   ]
  },
  {
   "cell_type": "markdown",
   "id": "ac71f409",
   "metadata": {},
   "source": [
    "who are customers who bought something?"
   ]
  },
  {
   "cell_type": "code",
   "execution_count": 17,
   "id": "95880e00",
   "metadata": {},
   "outputs": [],
   "source": [
    "customer_purchased = events[events.transactionid.notna()].visitorid.unique()"
   ]
  },
  {
   "cell_type": "code",
   "execution_count": 18,
   "id": "f4673ab5",
   "metadata": {},
   "outputs": [
    {
     "data": {
      "text/plain": [
       "11719"
      ]
     },
     "execution_count": 18,
     "metadata": {},
     "output_type": "execute_result"
    }
   ],
   "source": [
    "customer_purchased.size"
   ]
  },
  {
   "cell_type": "code",
   "execution_count": 19,
   "id": "266f4e25",
   "metadata": {},
   "outputs": [
    {
     "data": {
      "text/plain": [
       "array([ 599528,  121688,  552148,  102019,  189384,  350566,  404403,\n",
       "        505565,  945184, 1406787])"
      ]
     },
     "execution_count": 19,
     "metadata": {},
     "output_type": "execute_result"
    }
   ],
   "source": [
    "customer_purchased[:10] #sample list of visitorid who bought something"
   ]
  },
  {
   "cell_type": "markdown",
   "id": "b46f4c6b",
   "metadata": {},
   "source": [
    "all customers"
   ]
  },
  {
   "cell_type": "code",
   "execution_count": 20,
   "id": "145dd0c6",
   "metadata": {},
   "outputs": [
    {
     "data": {
      "text/plain": [
       "1407580"
      ]
     },
     "execution_count": 20,
     "metadata": {},
     "output_type": "execute_result"
    }
   ],
   "source": [
    "all_customers = events.visitorid.unique()\n",
    "all_customers.size"
   ]
  },
  {
   "cell_type": "markdown",
   "id": "e45dd8ce",
   "metadata": {},
   "source": [
    "Customers who bought nothing, just viewing and add to cart"
   ]
  },
  {
   "cell_type": "code",
   "execution_count": 21,
   "id": "8bed7a41",
   "metadata": {},
   "outputs": [
    {
     "data": {
      "text/plain": [
       "1395861"
      ]
     },
     "execution_count": 21,
     "metadata": {},
     "output_type": "execute_result"
    }
   ],
   "source": [
    "1407580-11719 #customers who bought nothing, just viewing and add to cart"
   ]
  },
  {
   "cell_type": "markdown",
   "id": "4f539dbb",
   "metadata": {},
   "source": [
    "out of 1,407,580 customers there are 1,395,861 customers who did not buy anything"
   ]
  },
  {
   "cell_type": "markdown",
   "id": "65aa1830",
   "metadata": {},
   "source": [
    "## Buying Journey"
   ]
  },
  {
   "cell_type": "markdown",
   "id": "d4d9f807",
   "metadata": {},
   "source": [
    "Buying journey of visitorid 102019"
   ]
  },
  {
   "cell_type": "code",
   "execution_count": 22,
   "id": "373f095a",
   "metadata": {},
   "outputs": [
    {
     "data": {
      "text/html": [
       "<div>\n",
       "<style scoped>\n",
       "    .dataframe tbody tr th:only-of-type {\n",
       "        vertical-align: middle;\n",
       "    }\n",
       "\n",
       "    .dataframe tbody tr th {\n",
       "        vertical-align: top;\n",
       "    }\n",
       "\n",
       "    .dataframe thead th {\n",
       "        text-align: right;\n",
       "    }\n",
       "</style>\n",
       "<table border=\"1\" class=\"dataframe\">\n",
       "  <thead>\n",
       "    <tr style=\"text-align: right;\">\n",
       "      <th></th>\n",
       "      <th>timestamp</th>\n",
       "      <th>visitorid</th>\n",
       "      <th>event</th>\n",
       "      <th>itemid</th>\n",
       "      <th>transactionid</th>\n",
       "    </tr>\n",
       "  </thead>\n",
       "  <tbody>\n",
       "    <tr>\n",
       "      <th>19690</th>\n",
       "      <td>1433175714335</td>\n",
       "      <td>102019</td>\n",
       "      <td>view</td>\n",
       "      <td>49521</td>\n",
       "      <td>NaN</td>\n",
       "    </tr>\n",
       "    <tr>\n",
       "      <th>19501</th>\n",
       "      <td>1433175801314</td>\n",
       "      <td>102019</td>\n",
       "      <td>addtocart</td>\n",
       "      <td>49521</td>\n",
       "      <td>NaN</td>\n",
       "    </tr>\n",
       "    <tr>\n",
       "      <th>14842</th>\n",
       "      <td>1433175812596</td>\n",
       "      <td>102019</td>\n",
       "      <td>view</td>\n",
       "      <td>150318</td>\n",
       "      <td>NaN</td>\n",
       "    </tr>\n",
       "    <tr>\n",
       "      <th>19573</th>\n",
       "      <td>1433175871497</td>\n",
       "      <td>102019</td>\n",
       "      <td>view</td>\n",
       "      <td>49521</td>\n",
       "      <td>NaN</td>\n",
       "    </tr>\n",
       "    <tr>\n",
       "      <th>8701</th>\n",
       "      <td>1433175894837</td>\n",
       "      <td>102019</td>\n",
       "      <td>view</td>\n",
       "      <td>49521</td>\n",
       "      <td>NaN</td>\n",
       "    </tr>\n",
       "    <tr>\n",
       "      <th>19708</th>\n",
       "      <td>1433175945872</td>\n",
       "      <td>102019</td>\n",
       "      <td>view</td>\n",
       "      <td>150318</td>\n",
       "      <td>NaN</td>\n",
       "    </tr>\n",
       "    <tr>\n",
       "      <th>8740</th>\n",
       "      <td>1433176042269</td>\n",
       "      <td>102019</td>\n",
       "      <td>view</td>\n",
       "      <td>49521</td>\n",
       "      <td>NaN</td>\n",
       "    </tr>\n",
       "    <tr>\n",
       "      <th>814</th>\n",
       "      <td>1433176736375</td>\n",
       "      <td>102019</td>\n",
       "      <td>transaction</td>\n",
       "      <td>150318</td>\n",
       "      <td>13556.0</td>\n",
       "    </tr>\n",
       "    <tr>\n",
       "      <th>19724</th>\n",
       "      <td>1433176736422</td>\n",
       "      <td>102019</td>\n",
       "      <td>transaction</td>\n",
       "      <td>49521</td>\n",
       "      <td>13556.0</td>\n",
       "    </tr>\n",
       "  </tbody>\n",
       "</table>\n",
       "</div>"
      ],
      "text/plain": [
       "           timestamp  visitorid        event  itemid  transactionid\n",
       "19690  1433175714335     102019         view   49521            NaN\n",
       "19501  1433175801314     102019    addtocart   49521            NaN\n",
       "14842  1433175812596     102019         view  150318            NaN\n",
       "19573  1433175871497     102019         view   49521            NaN\n",
       "8701   1433175894837     102019         view   49521            NaN\n",
       "19708  1433175945872     102019         view  150318            NaN\n",
       "8740   1433176042269     102019         view   49521            NaN\n",
       "814    1433176736375     102019  transaction  150318        13556.0\n",
       "19724  1433176736422     102019  transaction   49521        13556.0"
      ]
     },
     "execution_count": 22,
     "metadata": {},
     "output_type": "execute_result"
    }
   ],
   "source": [
    "events[events.visitorid == 102019].sort_values(by='timestamp')"
   ]
  },
  {
   "cell_type": "markdown",
   "id": "5fb9e54b",
   "metadata": {},
   "source": [
    "Customer who bought the same product?"
   ]
  },
  {
   "cell_type": "markdown",
   "id": "7baa265c",
   "metadata": {},
   "source": [
    "2 customers who bought the product with itemid 150318"
   ]
  },
  {
   "cell_type": "code",
   "execution_count": 23,
   "id": "ea451c53",
   "metadata": {},
   "outputs": [
    {
     "data": {
      "text/html": [
       "<div>\n",
       "<style scoped>\n",
       "    .dataframe tbody tr th:only-of-type {\n",
       "        vertical-align: middle;\n",
       "    }\n",
       "\n",
       "    .dataframe tbody tr th {\n",
       "        vertical-align: top;\n",
       "    }\n",
       "\n",
       "    .dataframe thead th {\n",
       "        text-align: right;\n",
       "    }\n",
       "</style>\n",
       "<table border=\"1\" class=\"dataframe\">\n",
       "  <thead>\n",
       "    <tr style=\"text-align: right;\">\n",
       "      <th></th>\n",
       "      <th>timestamp</th>\n",
       "      <th>visitorid</th>\n",
       "      <th>event</th>\n",
       "      <th>itemid</th>\n",
       "      <th>transactionid</th>\n",
       "    </tr>\n",
       "  </thead>\n",
       "  <tbody>\n",
       "    <tr>\n",
       "      <th>814</th>\n",
       "      <td>1433176736375</td>\n",
       "      <td>102019</td>\n",
       "      <td>transaction</td>\n",
       "      <td>150318</td>\n",
       "      <td>13556.0</td>\n",
       "    </tr>\n",
       "    <tr>\n",
       "      <th>1676467</th>\n",
       "      <td>1431538858422</td>\n",
       "      <td>953198</td>\n",
       "      <td>transaction</td>\n",
       "      <td>150318</td>\n",
       "      <td>1034.0</td>\n",
       "    </tr>\n",
       "  </tbody>\n",
       "</table>\n",
       "</div>"
      ],
      "text/plain": [
       "             timestamp  visitorid        event  itemid  transactionid\n",
       "814      1433176736375     102019  transaction  150318        13556.0\n",
       "1676467  1431538858422     953198  transaction  150318         1034.0"
      ]
     },
     "execution_count": 23,
     "metadata": {},
     "output_type": "execute_result"
    }
   ],
   "source": [
    "events[(events.itemid == 150318) & (events.event == 'transaction')]"
   ]
  },
  {
   "cell_type": "markdown",
   "id": "f3071347",
   "metadata": {},
   "source": [
    "## Recommendation of items based on items purchased together\n",
    "\n",
    "We can recommend the items that were previously bought together along with the item currently viewing.\n",
    "\n",
    "Eg., if customer is viewing e-scooter, generally previously bought items may include U-lock, air-pump, basket etc.,"
   ]
  },
  {
   "cell_type": "code",
   "execution_count": 24,
   "id": "5287d74b",
   "metadata": {},
   "outputs": [],
   "source": [
    "customer_purchased = events[events.transactionid.notna()].visitorid.unique()"
   ]
  },
  {
   "cell_type": "code",
   "execution_count": 25,
   "id": "f62c0a7f",
   "metadata": {},
   "outputs": [
    {
     "data": {
      "text/plain": [
       "11719"
      ]
     },
     "execution_count": 25,
     "metadata": {},
     "output_type": "execute_result"
    }
   ],
   "source": [
    "customer_purchased.size"
   ]
  },
  {
   "cell_type": "markdown",
   "id": "913f925b",
   "metadata": {},
   "source": [
    "Getting all the items that are bought together"
   ]
  },
  {
   "cell_type": "code",
   "execution_count": 26,
   "id": "623dbb8c",
   "metadata": {},
   "outputs": [],
   "source": [
    "purchased_items = []\n",
    "\n",
    "for customer in customer_purchased:\n",
    "    purchased_items.append(list(events.loc[(events.visitorid == customer) & (events.transactionid.notnull())].itemid.values))"
   ]
  },
  {
   "cell_type": "code",
   "execution_count": 381,
   "id": "16f5b180",
   "metadata": {},
   "outputs": [
    {
     "data": {
      "text/plain": [
       "[[356475],\n",
       " [15335,\n",
       "  380775,\n",
       "  237753,\n",
       "  317178,\n",
       "  12836,\n",
       "  400969,\n",
       "  105792,\n",
       "  25353,\n",
       "  200793,\n",
       "  80582,\n",
       "  302422],\n",
       " [81345],\n",
       " [150318, 49521],\n",
       " [310791, 299044]]"
      ]
     },
     "execution_count": 381,
     "metadata": {},
     "output_type": "execute_result"
    }
   ],
   "source": [
    "purchased_items[:5]"
   ]
  },
  {
   "cell_type": "code",
   "execution_count": 27,
   "id": "3247d366",
   "metadata": {},
   "outputs": [],
   "source": [
    "def recommender_bought(item_id, purchased_items):\n",
    "    recommender_list = []\n",
    "    for x in purchased_items:\n",
    "        if item_id in x:\n",
    "            recommender_list += x\n",
    "            \n",
    "    recommender_list = list(set(recommender_list) - set([item_id]))\n",
    "    \n",
    "    return recommender_list"
   ]
  },
  {
   "cell_type": "code",
   "execution_count": 28,
   "id": "dae2cd44",
   "metadata": {},
   "outputs": [
    {
     "data": {
      "text/plain": [
       "[105792, 200793, 12836, 80582, 380775, 15335, 400969, 25353, 237753, 317178]"
      ]
     },
     "execution_count": 28,
     "metadata": {},
     "output_type": "execute_result"
    }
   ],
   "source": [
    "recommender_bought(302422, purchased_items )"
   ]
  },
  {
   "cell_type": "markdown",
   "id": "c7e1019a",
   "metadata": {},
   "source": [
    "## Recommendation of items based on category the item currently being viewed belongs\n",
    "\n",
    "We can recommend the customer with items in the same category.\n",
    "\n",
    "Eg., if customer is viewing kitchen item knife, we can recommend other knife, scissors, cutting boards, blades etc.,"
   ]
  },
  {
   "cell_type": "code",
   "execution_count": 30,
   "id": "1c471f8d",
   "metadata": {},
   "outputs": [],
   "source": [
    "categories = item_properties_1[item_properties_1.property == 'categoryid'].value.unique()"
   ]
  },
  {
   "cell_type": "code",
   "execution_count": 40,
   "id": "033a5ae2",
   "metadata": {},
   "outputs": [],
   "source": [
    "items_in_category = []\n",
    "for category in categories:\n",
    "    items_in_category.append(list(item_properties_1[(item_properties_1.value == category)].itemid.unique()))"
   ]
  },
  {
   "cell_type": "markdown",
   "id": "8b40a17f",
   "metadata": {},
   "source": [
    "Items_in_category has items belonging to same category in list of lists "
   ]
  },
  {
   "cell_type": "code",
   "execution_count": 42,
   "id": "e27afb63",
   "metadata": {},
   "outputs": [],
   "source": [
    "def recommender_similar_items(item_id, items_in_category):\n",
    "    recommender_list2 = []\n",
    "    for x in items_in_category:\n",
    "        if item_id in x:\n",
    "            recommender_list2 += x\n",
    "            \n",
    "    recommender_list2 = list(set(recommender_list2) - set([item_id]))\n",
    "    \n",
    "    return recommender_list2"
   ]
  },
  {
   "cell_type": "code",
   "execution_count": 44,
   "id": "e71ca86d",
   "metadata": {},
   "outputs": [
    {
     "data": {
      "text/plain": [
       "[390209,\n",
       " 73730,\n",
       " 201154,\n",
       " 377283,\n",
       " 312837,\n",
       " 98949,\n",
       " 90376,\n",
       " 339403,\n",
       " 125521,\n",
       " 181587,\n",
       " 220116,\n",
       " 418837,\n",
       " 161686,\n",
       " 187263,\n",
       " 138777,\n",
       " 209439,\n",
       " 235999,\n",
       " 85538,\n",
       " 464482,\n",
       " 186663,\n",
       " 190569,\n",
       " 339754,\n",
       " 360044,\n",
       " 46702,\n",
       " 350255,\n",
       " 36918,\n",
       " 362999,\n",
       " 29689,\n",
       " 373242,\n",
       " 278463]"
      ]
     },
     "execution_count": 44,
     "metadata": {},
     "output_type": "execute_result"
    }
   ],
   "source": [
    "recommender_similar_items(276491, items_in_category)"
   ]
  },
  {
   "cell_type": "markdown",
   "id": "aee53012",
   "metadata": {},
   "source": [
    "Other metrics we can add are \n",
    "\n",
    "#number of people who are currently added it to cart\n",
    "\n",
    "#number of people who purchased the item"
   ]
  },
  {
   "cell_type": "markdown",
   "id": "918b32f4",
   "metadata": {},
   "source": [
    "# Gathering aggregated information in dataframe"
   ]
  },
  {
   "cell_type": "code",
   "execution_count": 47,
   "id": "8e71a70e",
   "metadata": {},
   "outputs": [
    {
     "data": {
      "text/plain": [
       "1407580"
      ]
     },
     "execution_count": 47,
     "metadata": {},
     "output_type": "execute_result"
    }
   ],
   "source": [
    "#All customers\n",
    "all_visitors = events.visitorid.unique()\n",
    "all_visitors.size"
   ]
  },
  {
   "cell_type": "code",
   "execution_count": 48,
   "id": "edaefe98",
   "metadata": {},
   "outputs": [
    {
     "data": {
      "text/plain": [
       "11719"
      ]
     },
     "execution_count": 48,
     "metadata": {},
     "output_type": "execute_result"
    }
   ],
   "source": [
    "buying_visitors = events[events.event == 'transaction'].visitorid.unique()\n",
    "buying_visitors.size"
   ]
  },
  {
   "cell_type": "code",
   "execution_count": 234,
   "id": "115c343d",
   "metadata": {},
   "outputs": [],
   "source": [
    "buying_visitors_list = list(buying_visitors)"
   ]
  },
  {
   "cell_type": "code",
   "execution_count": 51,
   "id": "51ab4877",
   "metadata": {},
   "outputs": [],
   "source": [
    "viewing_visitors_list = list(set(all_visitors) - set(buying_visitors))"
   ]
  },
  {
   "cell_type": "code",
   "execution_count": 202,
   "id": "775eab66",
   "metadata": {},
   "outputs": [],
   "source": [
    "def create_dataframe(visitor_list):\n",
    "    \n",
    "    array_for_df = []\n",
    "    for index in visitor_list:\n",
    "\n",
    "        #Create that visitor's dataframe once\n",
    "        v_df = events[events.visitorid == index]\n",
    "\n",
    "        temp = []\n",
    "        #Add the visitor id\n",
    "        temp.append(index)\n",
    "\n",
    "        #Add the total number of unique products viewed\n",
    "        temp.append(v_df[v_df.event == 'view'].itemid.unique().size)\n",
    "\n",
    "        #Add the total number of views regardless of product type\n",
    "        temp.append(v_df[v_df.event == 'view'].event.count())\n",
    "\n",
    "        #Add the total number of purchases\n",
    "        number_of_items_bought = v_df[v_df.event == 'transaction'].event.count()\n",
    "        temp.append(number_of_items_bought)\n",
    "\n",
    "        #Then put either a zero or one if they made a purchase\n",
    "        if(number_of_items_bought == 0):\n",
    "            temp.append(0)\n",
    "        else:\n",
    "            temp.append(1)\n",
    "\n",
    "        array_for_df.append(temp)\n",
    "    \n",
    "    return pd.DataFrame(array_for_df, columns=['visitorid', 'num_items_viewed', 'view_count', 'bought_count', 'purchased'])"
   ]
  },
  {
   "cell_type": "markdown",
   "id": "ff10517a",
   "metadata": {},
   "source": [
    "Getting all the buying_visitors and num of items viewed, num of times viewed, numbers of items bought, also adding a column \"purchased\" for machine learning model training"
   ]
  },
  {
   "cell_type": "code",
   "execution_count": 55,
   "id": "2a9b1a5f",
   "metadata": {},
   "outputs": [],
   "source": [
    "buying_visitors_df = create_dataframe(buying_visitors)"
   ]
  },
  {
   "cell_type": "code",
   "execution_count": 57,
   "id": "73ae9c22",
   "metadata": {},
   "outputs": [
    {
     "data": {
      "text/plain": [
       "(11719, 5)"
      ]
     },
     "execution_count": 57,
     "metadata": {},
     "output_type": "execute_result"
    }
   ],
   "source": [
    "buying_visitors_df.shape"
   ]
  },
  {
   "cell_type": "code",
   "execution_count": 59,
   "id": "85ed17f0",
   "metadata": {},
   "outputs": [
    {
     "data": {
      "text/html": [
       "<div>\n",
       "<style scoped>\n",
       "    .dataframe tbody tr th:only-of-type {\n",
       "        vertical-align: middle;\n",
       "    }\n",
       "\n",
       "    .dataframe tbody tr th {\n",
       "        vertical-align: top;\n",
       "    }\n",
       "\n",
       "    .dataframe thead th {\n",
       "        text-align: right;\n",
       "    }\n",
       "</style>\n",
       "<table border=\"1\" class=\"dataframe\">\n",
       "  <thead>\n",
       "    <tr style=\"text-align: right;\">\n",
       "      <th></th>\n",
       "      <th>visitorid</th>\n",
       "      <th>num_items_viewed</th>\n",
       "      <th>view_count</th>\n",
       "      <th>bought_count</th>\n",
       "      <th>purchased</th>\n",
       "    </tr>\n",
       "  </thead>\n",
       "  <tbody>\n",
       "    <tr>\n",
       "      <th>0</th>\n",
       "      <td>599528</td>\n",
       "      <td>2</td>\n",
       "      <td>15</td>\n",
       "      <td>1</td>\n",
       "      <td>1</td>\n",
       "    </tr>\n",
       "    <tr>\n",
       "      <th>1</th>\n",
       "      <td>121688</td>\n",
       "      <td>13</td>\n",
       "      <td>15</td>\n",
       "      <td>11</td>\n",
       "      <td>1</td>\n",
       "    </tr>\n",
       "    <tr>\n",
       "      <th>2</th>\n",
       "      <td>552148</td>\n",
       "      <td>1</td>\n",
       "      <td>1</td>\n",
       "      <td>1</td>\n",
       "      <td>1</td>\n",
       "    </tr>\n",
       "    <tr>\n",
       "      <th>3</th>\n",
       "      <td>102019</td>\n",
       "      <td>2</td>\n",
       "      <td>6</td>\n",
       "      <td>2</td>\n",
       "      <td>1</td>\n",
       "    </tr>\n",
       "    <tr>\n",
       "      <th>4</th>\n",
       "      <td>189384</td>\n",
       "      <td>7</td>\n",
       "      <td>25</td>\n",
       "      <td>2</td>\n",
       "      <td>1</td>\n",
       "    </tr>\n",
       "  </tbody>\n",
       "</table>\n",
       "</div>"
      ],
      "text/plain": [
       "   visitorid  num_items_viewed  view_count  bought_count  purchased\n",
       "0     599528                 2          15             1          1\n",
       "1     121688                13          15            11          1\n",
       "2     552148                 1           1             1          1\n",
       "3     102019                 2           6             2          1\n",
       "4     189384                 7          25             2          1"
      ]
     },
     "execution_count": 59,
     "metadata": {},
     "output_type": "execute_result"
    }
   ],
   "source": [
    "buying_visitors_df.head()"
   ]
  },
  {
   "cell_type": "markdown",
   "id": "d5f99ba5",
   "metadata": {},
   "source": [
    "Getting all the viewing_visitors and num of items viewed, num of times viewed, numbers of items bought, also adding a column \"purchased\" for machine learning model training"
   ]
  },
  {
   "cell_type": "code",
   "execution_count": 60,
   "id": "129ca012",
   "metadata": {},
   "outputs": [],
   "source": [
    "viewing_visitors_df = create_dataframe(viewing_visitors_list)"
   ]
  },
  {
   "cell_type": "code",
   "execution_count": 61,
   "id": "736535a6",
   "metadata": {},
   "outputs": [
    {
     "data": {
      "text/html": [
       "<div>\n",
       "<style scoped>\n",
       "    .dataframe tbody tr th:only-of-type {\n",
       "        vertical-align: middle;\n",
       "    }\n",
       "\n",
       "    .dataframe tbody tr th {\n",
       "        vertical-align: top;\n",
       "    }\n",
       "\n",
       "    .dataframe thead th {\n",
       "        text-align: right;\n",
       "    }\n",
       "</style>\n",
       "<table border=\"1\" class=\"dataframe\">\n",
       "  <thead>\n",
       "    <tr style=\"text-align: right;\">\n",
       "      <th></th>\n",
       "      <th>visitorid</th>\n",
       "      <th>num_items_viewed</th>\n",
       "      <th>view_count</th>\n",
       "      <th>bought_count</th>\n",
       "      <th>purchased</th>\n",
       "    </tr>\n",
       "  </thead>\n",
       "  <tbody>\n",
       "    <tr>\n",
       "      <th>0</th>\n",
       "      <td>0</td>\n",
       "      <td>3</td>\n",
       "      <td>3</td>\n",
       "      <td>0</td>\n",
       "      <td>0</td>\n",
       "    </tr>\n",
       "    <tr>\n",
       "      <th>1</th>\n",
       "      <td>1</td>\n",
       "      <td>1</td>\n",
       "      <td>1</td>\n",
       "      <td>0</td>\n",
       "      <td>0</td>\n",
       "    </tr>\n",
       "    <tr>\n",
       "      <th>2</th>\n",
       "      <td>2</td>\n",
       "      <td>4</td>\n",
       "      <td>8</td>\n",
       "      <td>0</td>\n",
       "      <td>0</td>\n",
       "    </tr>\n",
       "    <tr>\n",
       "      <th>3</th>\n",
       "      <td>3</td>\n",
       "      <td>1</td>\n",
       "      <td>1</td>\n",
       "      <td>0</td>\n",
       "      <td>0</td>\n",
       "    </tr>\n",
       "    <tr>\n",
       "      <th>4</th>\n",
       "      <td>4</td>\n",
       "      <td>1</td>\n",
       "      <td>1</td>\n",
       "      <td>0</td>\n",
       "      <td>0</td>\n",
       "    </tr>\n",
       "    <tr>\n",
       "      <th>...</th>\n",
       "      <td>...</td>\n",
       "      <td>...</td>\n",
       "      <td>...</td>\n",
       "      <td>...</td>\n",
       "      <td>...</td>\n",
       "    </tr>\n",
       "    <tr>\n",
       "      <th>27795</th>\n",
       "      <td>28008</td>\n",
       "      <td>1</td>\n",
       "      <td>2</td>\n",
       "      <td>0</td>\n",
       "      <td>0</td>\n",
       "    </tr>\n",
       "    <tr>\n",
       "      <th>27796</th>\n",
       "      <td>28009</td>\n",
       "      <td>1</td>\n",
       "      <td>1</td>\n",
       "      <td>0</td>\n",
       "      <td>0</td>\n",
       "    </tr>\n",
       "    <tr>\n",
       "      <th>27797</th>\n",
       "      <td>28010</td>\n",
       "      <td>2</td>\n",
       "      <td>3</td>\n",
       "      <td>0</td>\n",
       "      <td>0</td>\n",
       "    </tr>\n",
       "    <tr>\n",
       "      <th>27798</th>\n",
       "      <td>28011</td>\n",
       "      <td>2</td>\n",
       "      <td>3</td>\n",
       "      <td>0</td>\n",
       "      <td>0</td>\n",
       "    </tr>\n",
       "    <tr>\n",
       "      <th>27799</th>\n",
       "      <td>28012</td>\n",
       "      <td>1</td>\n",
       "      <td>1</td>\n",
       "      <td>0</td>\n",
       "      <td>0</td>\n",
       "    </tr>\n",
       "  </tbody>\n",
       "</table>\n",
       "<p>27800 rows × 5 columns</p>\n",
       "</div>"
      ],
      "text/plain": [
       "       visitorid  num_items_viewed  view_count  bought_count  purchased\n",
       "0              0                 3           3             0          0\n",
       "1              1                 1           1             0          0\n",
       "2              2                 4           8             0          0\n",
       "3              3                 1           1             0          0\n",
       "4              4                 1           1             0          0\n",
       "...          ...               ...         ...           ...        ...\n",
       "27795      28008                 1           2             0          0\n",
       "27796      28009                 1           1             0          0\n",
       "27797      28010                 2           3             0          0\n",
       "27798      28011                 2           3             0          0\n",
       "27799      28012                 1           1             0          0\n",
       "\n",
       "[27800 rows x 5 columns]"
      ]
     },
     "execution_count": 61,
     "metadata": {},
     "output_type": "execute_result"
    }
   ],
   "source": [
    "viewing_visitors_df[0:27800]"
   ]
  },
  {
   "cell_type": "markdown",
   "id": "be047903",
   "metadata": {},
   "source": [
    "# Business Metric: Conversion Rate"
   ]
  },
  {
   "cell_type": "markdown",
   "id": "40a84e05",
   "metadata": {},
   "source": [
    "Gathering aggregated information of items in a dataframe and calculating conversion rate of each product\n",
    "\n",
    "convertion_rate = (number_of_visitors_bought_item/view_count_visitors)*100"
   ]
  },
  {
   "cell_type": "code",
   "execution_count": 307,
   "id": "43fcc3f0",
   "metadata": {},
   "outputs": [],
   "source": [
    "def create_dataframe_items(items_list):\n",
    "    \n",
    "    array_for_df = []\n",
    "    for index in items_list:\n",
    "\n",
    "        #Create that item's dataframe once\n",
    "        items_df = events[events.itemid == index]\n",
    "\n",
    "        temp = []\n",
    "        #Add the item id\n",
    "        temp.append(index)\n",
    "\n",
    "        #Add the total number of unique products viewed\n",
    "        visitors_viewed = items_df[items_df.event == 'view'].visitorid.unique().size\n",
    "        temp.append(visitors_viewed)\n",
    "\n",
    "        #Add the total number of views regardless of product type\n",
    "        view_count_visitors = items_df[items_df.event == 'view'].visitorid.count()\n",
    "        temp.append(view_count_visitors)\n",
    "\n",
    "        #Add the total number of purchases\n",
    "        number_of_visitors_bought_item = items_df[items_df.event == 'transaction'].visitorid.count()\n",
    "        temp.append(number_of_visitors_bought_item)\n",
    "        \n",
    "        #Conversion rate\n",
    "        if view_count_visitors != 0:\n",
    "            convertion_rate = (number_of_visitors_bought_item/visitors_viewed)*100\n",
    "            temp.append(convertion_rate)\n",
    "\n",
    "        array_for_df.append(temp)\n",
    "    \n",
    "    return pd.DataFrame(array_for_df, columns=['itemid', 'visitors_viewed', 'total_views', 'bought_count', 'convertion_rate'])"
   ]
  },
  {
   "cell_type": "code",
   "execution_count": 304,
   "id": "e4771c70",
   "metadata": {},
   "outputs": [],
   "source": [
    "items_list = events.itemid.unique()"
   ]
  },
  {
   "cell_type": "code",
   "execution_count": 305,
   "id": "e37fb269",
   "metadata": {},
   "outputs": [
    {
     "data": {
      "text/plain": [
       "array([355908, 248676, 318965, ...,    613,  52086, 177353])"
      ]
     },
     "execution_count": 305,
     "metadata": {},
     "output_type": "execute_result"
    }
   ],
   "source": [
    "items_list"
   ]
  },
  {
   "cell_type": "code",
   "execution_count": 308,
   "id": "881dd387",
   "metadata": {},
   "outputs": [],
   "source": [
    "item_purchase_info = create_dataframe_items(items_list)"
   ]
  },
  {
   "cell_type": "markdown",
   "id": "2c824d65",
   "metadata": {},
   "source": [
    "## Conversion Rate for each product"
   ]
  },
  {
   "cell_type": "code",
   "execution_count": 309,
   "id": "e5f2521e",
   "metadata": {},
   "outputs": [
    {
     "data": {
      "text/html": [
       "<div>\n",
       "<style scoped>\n",
       "    .dataframe tbody tr th:only-of-type {\n",
       "        vertical-align: middle;\n",
       "    }\n",
       "\n",
       "    .dataframe tbody tr th {\n",
       "        vertical-align: top;\n",
       "    }\n",
       "\n",
       "    .dataframe thead th {\n",
       "        text-align: right;\n",
       "    }\n",
       "</style>\n",
       "<table border=\"1\" class=\"dataframe\">\n",
       "  <thead>\n",
       "    <tr style=\"text-align: right;\">\n",
       "      <th></th>\n",
       "      <th>itemid</th>\n",
       "      <th>visitors_viewed</th>\n",
       "      <th>total_views</th>\n",
       "      <th>bought_count</th>\n",
       "      <th>convertion_rate</th>\n",
       "    </tr>\n",
       "  </thead>\n",
       "  <tbody>\n",
       "    <tr>\n",
       "      <th>0</th>\n",
       "      <td>355908</td>\n",
       "      <td>46</td>\n",
       "      <td>57</td>\n",
       "      <td>0</td>\n",
       "      <td>0.000000</td>\n",
       "    </tr>\n",
       "    <tr>\n",
       "      <th>1</th>\n",
       "      <td>248676</td>\n",
       "      <td>24</td>\n",
       "      <td>29</td>\n",
       "      <td>2</td>\n",
       "      <td>8.333333</td>\n",
       "    </tr>\n",
       "    <tr>\n",
       "      <th>2</th>\n",
       "      <td>318965</td>\n",
       "      <td>13</td>\n",
       "      <td>15</td>\n",
       "      <td>0</td>\n",
       "      <td>0.000000</td>\n",
       "    </tr>\n",
       "    <tr>\n",
       "      <th>3</th>\n",
       "      <td>253185</td>\n",
       "      <td>10</td>\n",
       "      <td>14</td>\n",
       "      <td>0</td>\n",
       "      <td>0.000000</td>\n",
       "    </tr>\n",
       "    <tr>\n",
       "      <th>4</th>\n",
       "      <td>367447</td>\n",
       "      <td>201</td>\n",
       "      <td>249</td>\n",
       "      <td>1</td>\n",
       "      <td>0.497512</td>\n",
       "    </tr>\n",
       "  </tbody>\n",
       "</table>\n",
       "</div>"
      ],
      "text/plain": [
       "   itemid  visitors_viewed  total_views  bought_count  convertion_rate\n",
       "0  355908               46           57             0         0.000000\n",
       "1  248676               24           29             2         8.333333\n",
       "2  318965               13           15             0         0.000000\n",
       "3  253185               10           14             0         0.000000\n",
       "4  367447              201          249             1         0.497512"
      ]
     },
     "execution_count": 309,
     "metadata": {},
     "output_type": "execute_result"
    }
   ],
   "source": [
    "item_purchase_info.head()"
   ]
  },
  {
   "cell_type": "markdown",
   "id": "110511ba",
   "metadata": {},
   "source": [
    "## Identify the items whose conversion rate is less than 5% for ad campaigns"
   ]
  },
  {
   "cell_type": "code",
   "execution_count": 384,
   "id": "08870c29",
   "metadata": {},
   "outputs": [],
   "source": [
    "ad_campaign = []\n",
    "ad_campaign = item_purchase_info.loc[item_purchase_info['convertion_rate'] < 5, 'itemid'].tolist()"
   ]
  },
  {
   "cell_type": "markdown",
   "id": "816c6d8a",
   "metadata": {},
   "source": [
    "list ad_campaign has list of itemids whose converstion rate is less than 5%, send this list to ad campaigns"
   ]
  },
  {
   "cell_type": "markdown",
   "id": "5985c39d",
   "metadata": {},
   "source": [
    "# Business Metric: Churn Rate"
   ]
  },
  {
   "cell_type": "markdown",
   "id": "ce67db81",
   "metadata": {},
   "source": [
    "Converting Unix timestamp to datetime"
   ]
  },
  {
   "cell_type": "code",
   "execution_count": 119,
   "id": "071f2cf6",
   "metadata": {},
   "outputs": [],
   "source": [
    "events['timestamp'] = events['timestamp'].astype(str).str[:10]\n",
    "events['timestamp'] = events['timestamp'].astype(int).apply(lambda x: datetime.datetime.fromtimestamp(x).strftime('%Y-%m-%d %H:%M:%S'))\n"
   ]
  },
  {
   "cell_type": "code",
   "execution_count": 120,
   "id": "5fcd9d2a",
   "metadata": {},
   "outputs": [
    {
     "data": {
      "text/html": [
       "<div>\n",
       "<style scoped>\n",
       "    .dataframe tbody tr th:only-of-type {\n",
       "        vertical-align: middle;\n",
       "    }\n",
       "\n",
       "    .dataframe tbody tr th {\n",
       "        vertical-align: top;\n",
       "    }\n",
       "\n",
       "    .dataframe thead th {\n",
       "        text-align: right;\n",
       "    }\n",
       "</style>\n",
       "<table border=\"1\" class=\"dataframe\">\n",
       "  <thead>\n",
       "    <tr style=\"text-align: right;\">\n",
       "      <th></th>\n",
       "      <th>timestamp</th>\n",
       "      <th>visitorid</th>\n",
       "      <th>event</th>\n",
       "      <th>itemid</th>\n",
       "      <th>transactionid</th>\n",
       "    </tr>\n",
       "  </thead>\n",
       "  <tbody>\n",
       "    <tr>\n",
       "      <th>0</th>\n",
       "      <td>2015-06-02 00:02:12</td>\n",
       "      <td>257597</td>\n",
       "      <td>view</td>\n",
       "      <td>355908</td>\n",
       "      <td>NaN</td>\n",
       "    </tr>\n",
       "    <tr>\n",
       "      <th>1</th>\n",
       "      <td>2015-06-02 00:50:14</td>\n",
       "      <td>992329</td>\n",
       "      <td>view</td>\n",
       "      <td>248676</td>\n",
       "      <td>NaN</td>\n",
       "    </tr>\n",
       "    <tr>\n",
       "      <th>2</th>\n",
       "      <td>2015-06-02 00:13:19</td>\n",
       "      <td>111016</td>\n",
       "      <td>view</td>\n",
       "      <td>318965</td>\n",
       "      <td>NaN</td>\n",
       "    </tr>\n",
       "    <tr>\n",
       "      <th>3</th>\n",
       "      <td>2015-06-02 00:12:35</td>\n",
       "      <td>483717</td>\n",
       "      <td>view</td>\n",
       "      <td>253185</td>\n",
       "      <td>NaN</td>\n",
       "    </tr>\n",
       "    <tr>\n",
       "      <th>4</th>\n",
       "      <td>2015-06-02 00:02:17</td>\n",
       "      <td>951259</td>\n",
       "      <td>view</td>\n",
       "      <td>367447</td>\n",
       "      <td>NaN</td>\n",
       "    </tr>\n",
       "  </tbody>\n",
       "</table>\n",
       "</div>"
      ],
      "text/plain": [
       "             timestamp  visitorid event  itemid  transactionid\n",
       "0  2015-06-02 00:02:12     257597  view  355908            NaN\n",
       "1  2015-06-02 00:50:14     992329  view  248676            NaN\n",
       "2  2015-06-02 00:13:19     111016  view  318965            NaN\n",
       "3  2015-06-02 00:12:35     483717  view  253185            NaN\n",
       "4  2015-06-02 00:02:17     951259  view  367447            NaN"
      ]
     },
     "execution_count": 120,
     "metadata": {},
     "output_type": "execute_result"
    }
   ],
   "source": [
    "events.head()"
   ]
  },
  {
   "cell_type": "code",
   "execution_count": 123,
   "id": "440445a0",
   "metadata": {},
   "outputs": [
    {
     "data": {
      "text/plain": [
       "('2015-05-02 22:00:04', '2015-09-17 21:59:47')"
      ]
     },
     "execution_count": 123,
     "metadata": {},
     "output_type": "execute_result"
    }
   ],
   "source": [
    "events.timestamp.min(), events.timestamp.max() "
   ]
  },
  {
   "cell_type": "markdown",
   "id": "8e9e57a3",
   "metadata": {},
   "source": [
    "Track Purchases in the Period:\n",
    "\n",
    "List all visitor_ids who made at least one purchase in the given period (e.g., in the last month). \n",
    "These are your active customers."
   ]
  },
  {
   "cell_type": "code",
   "execution_count": 133,
   "id": "fd384ac4",
   "metadata": {},
   "outputs": [],
   "source": [
    "import datetime\n",
    "\n",
    "def create_dataframe_churn(visitor_list):  # Pass only purchased visitors list\n",
    "    array_for_df = []\n",
    "\n",
    "    # Define the reference date and ensure it is a datetime object\n",
    "    reference_date = datetime.datetime(2015, 9, 17, 21, 59, 47)\n",
    "\n",
    "    \n",
    "    for visitor_id in visitor_list:\n",
    "        \n",
    "        visitor_churn_df = events[events['visitorid'] == visitor_id]\n",
    "\n",
    "        temp = []\n",
    "        temp.append(visitor_id)\n",
    "\n",
    "        # Get the last purchase date for this visitor\n",
    "        last_purchase_date = visitor_churn_df['timestamp'].max()\n",
    "\n",
    "        # Ensure that the last purchase date is a datetime object (it should already be, but let's confirm)\n",
    "        if isinstance(last_purchase_date, str):\n",
    "            last_purchase_date = pd.to_datetime(last_purchase_date)\n",
    "        \n",
    "        # Add the last purchase date to the temporary list\n",
    "        temp.append(last_purchase_date)\n",
    "\n",
    "        # Calculate churn by days (days since last purchase)\n",
    "        # Ensure that both reference_date and last_purchase_date are datetime objects\n",
    "        churn_by_days = reference_date - last_purchase_date\n",
    "\n",
    "        # Convert the result to days (not a timedelta)\n",
    "        churn_by_days = churn_by_days.days  # Extract days from timedelta\n",
    "\n",
    "        # Add churn by days to the temporary list\n",
    "        temp.append(churn_by_days)\n",
    "\n",
    "        # Append the result for this visitor to the main list\n",
    "        array_for_df.append(temp)\n",
    "\n",
    "    # Return a DataFrame with the results\n",
    "    return pd.DataFrame(array_for_df, columns=['visitorid', 'last_purchase_date', 'churn_by_days'])\n"
   ]
  },
  {
   "cell_type": "code",
   "execution_count": 134,
   "id": "daccf902",
   "metadata": {},
   "outputs": [],
   "source": [
    "buying_visitors_churn_df = create_dataframe_churn(buying_visitors)"
   ]
  },
  {
   "cell_type": "code",
   "execution_count": 135,
   "id": "e435656d",
   "metadata": {},
   "outputs": [
    {
     "data": {
      "text/html": [
       "<div>\n",
       "<style scoped>\n",
       "    .dataframe tbody tr th:only-of-type {\n",
       "        vertical-align: middle;\n",
       "    }\n",
       "\n",
       "    .dataframe tbody tr th {\n",
       "        vertical-align: top;\n",
       "    }\n",
       "\n",
       "    .dataframe thead th {\n",
       "        text-align: right;\n",
       "    }\n",
       "</style>\n",
       "<table border=\"1\" class=\"dataframe\">\n",
       "  <thead>\n",
       "    <tr style=\"text-align: right;\">\n",
       "      <th></th>\n",
       "      <th>visitorid</th>\n",
       "      <th>last_purchase_date</th>\n",
       "      <th>churn_by_days</th>\n",
       "    </tr>\n",
       "  </thead>\n",
       "  <tbody>\n",
       "    <tr>\n",
       "      <th>0</th>\n",
       "      <td>599528</td>\n",
       "      <td>2015-08-25 13:32:03</td>\n",
       "      <td>23</td>\n",
       "    </tr>\n",
       "    <tr>\n",
       "      <th>1</th>\n",
       "      <td>121688</td>\n",
       "      <td>2015-06-01 16:18:21</td>\n",
       "      <td>108</td>\n",
       "    </tr>\n",
       "    <tr>\n",
       "      <th>2</th>\n",
       "      <td>552148</td>\n",
       "      <td>2015-06-01 16:25:15</td>\n",
       "      <td>108</td>\n",
       "    </tr>\n",
       "    <tr>\n",
       "      <th>3</th>\n",
       "      <td>102019</td>\n",
       "      <td>2015-06-01 11:38:56</td>\n",
       "      <td>108</td>\n",
       "    </tr>\n",
       "    <tr>\n",
       "      <th>4</th>\n",
       "      <td>189384</td>\n",
       "      <td>2015-08-25 09:52:56</td>\n",
       "      <td>23</td>\n",
       "    </tr>\n",
       "  </tbody>\n",
       "</table>\n",
       "</div>"
      ],
      "text/plain": [
       "   visitorid  last_purchase_date  churn_by_days\n",
       "0     599528 2015-08-25 13:32:03             23\n",
       "1     121688 2015-06-01 16:18:21            108\n",
       "2     552148 2015-06-01 16:25:15            108\n",
       "3     102019 2015-06-01 11:38:56            108\n",
       "4     189384 2015-08-25 09:52:56             23"
      ]
     },
     "execution_count": 135,
     "metadata": {},
     "output_type": "execute_result"
    }
   ],
   "source": [
    "buying_visitors_churn_df.head()"
   ]
  },
  {
   "cell_type": "markdown",
   "id": "9198f03d",
   "metadata": {},
   "source": [
    "If \n",
    "customer A has churned by 20 days\n",
    "\n",
    "customer B has churned by 30 days\n",
    "\n",
    "customer C has churned by 40 days\n",
    "\n",
    "Then we take average of A,B,C ie., 20+30+40/3 = 90/3 = 30 days as the churn threshold"
   ]
  },
  {
   "cell_type": "code",
   "execution_count": 136,
   "id": "ce2931c3",
   "metadata": {},
   "outputs": [
    {
     "data": {
      "text/plain": [
       "64.36180561481355"
      ]
     },
     "execution_count": 136,
     "metadata": {},
     "output_type": "execute_result"
    }
   ],
   "source": [
    "\n",
    "avg_churn_days = buying_visitors_churn_df['churn_by_days'].mean()\n",
    "avg_churn_days"
   ]
  },
  {
   "cell_type": "markdown",
   "id": "cb9e825a",
   "metadata": {},
   "source": [
    "Here churn threshold is 64 days"
   ]
  },
  {
   "cell_type": "code",
   "execution_count": 143,
   "id": "7dec5a77",
   "metadata": {},
   "outputs": [],
   "source": [
    "churned_customers = buying_visitors_churn_df[buying_visitors_churn_df['churn_by_days'] > 64].visitorid.unique()"
   ]
  },
  {
   "cell_type": "code",
   "execution_count": 145,
   "id": "4d771ca3",
   "metadata": {},
   "outputs": [
    {
     "data": {
      "text/plain": [
       "5706"
      ]
     },
     "execution_count": 145,
     "metadata": {},
     "output_type": "execute_result"
    }
   ],
   "source": [
    "churned_customers.size"
   ]
  },
  {
   "cell_type": "markdown",
   "id": "f9e077f9",
   "metadata": {},
   "source": [
    "There are 5706 customers whose last purchase was 64 days ago.\n",
    "\n",
    "We can get the list of these customers and send them to ad campaigning team or customized deals for these customers to retain these customers"
   ]
  },
  {
   "cell_type": "markdown",
   "id": "c1626465",
   "metadata": {},
   "source": [
    "## List of churned customers for ad campaigns, customized deals"
   ]
  },
  {
   "cell_type": "code",
   "execution_count": 385,
   "id": "2aa00308",
   "metadata": {},
   "outputs": [
    {
     "data": {
      "text/plain": [
       "array([ 121688,  552148,  102019,  350566,  404403,  505565,  945184,\n",
       "       1406787,  820159,  319880])"
      ]
     },
     "execution_count": 385,
     "metadata": {},
     "output_type": "execute_result"
    }
   ],
   "source": [
    "churned_customers[:10]"
   ]
  },
  {
   "cell_type": "code",
   "execution_count": 147,
   "id": "a9cdd5a8",
   "metadata": {},
   "outputs": [
    {
     "data": {
      "text/plain": [
       "1407580"
      ]
     },
     "execution_count": 147,
     "metadata": {},
     "output_type": "execute_result"
    }
   ],
   "source": [
    "all_customers.size"
   ]
  },
  {
   "cell_type": "code",
   "execution_count": 151,
   "id": "c2ef3162",
   "metadata": {},
   "outputs": [
    {
     "data": {
      "text/plain": [
       "48.69016127655944"
      ]
     },
     "execution_count": 151,
     "metadata": {},
     "output_type": "execute_result"
    }
   ],
   "source": [
    "Churn_rate = (churned_customers.size/buying_visitors.size)*100\n",
    "Churn_rate"
   ]
  },
  {
   "cell_type": "markdown",
   "id": "ed6303cb",
   "metadata": {},
   "source": [
    "## Churn rate is 48%\n",
    "\n",
    "## Retention rate is 52%"
   ]
  },
  {
   "cell_type": "code",
   "execution_count": 153,
   "id": "2648c572",
   "metadata": {},
   "outputs": [
    {
     "data": {
      "text/html": [
       "<div>\n",
       "<style scoped>\n",
       "    .dataframe tbody tr th:only-of-type {\n",
       "        vertical-align: middle;\n",
       "    }\n",
       "\n",
       "    .dataframe tbody tr th {\n",
       "        vertical-align: top;\n",
       "    }\n",
       "\n",
       "    .dataframe thead th {\n",
       "        text-align: right;\n",
       "    }\n",
       "</style>\n",
       "<table border=\"1\" class=\"dataframe\">\n",
       "  <thead>\n",
       "    <tr style=\"text-align: right;\">\n",
       "      <th></th>\n",
       "      <th>visitorid</th>\n",
       "      <th>num_items_viewed</th>\n",
       "      <th>view_count</th>\n",
       "      <th>bought_count</th>\n",
       "      <th>purchased</th>\n",
       "    </tr>\n",
       "  </thead>\n",
       "  <tbody>\n",
       "    <tr>\n",
       "      <th>0</th>\n",
       "      <td>599528</td>\n",
       "      <td>2</td>\n",
       "      <td>15</td>\n",
       "      <td>1</td>\n",
       "      <td>1</td>\n",
       "    </tr>\n",
       "    <tr>\n",
       "      <th>1</th>\n",
       "      <td>121688</td>\n",
       "      <td>13</td>\n",
       "      <td>15</td>\n",
       "      <td>11</td>\n",
       "      <td>1</td>\n",
       "    </tr>\n",
       "    <tr>\n",
       "      <th>2</th>\n",
       "      <td>552148</td>\n",
       "      <td>1</td>\n",
       "      <td>1</td>\n",
       "      <td>1</td>\n",
       "      <td>1</td>\n",
       "    </tr>\n",
       "    <tr>\n",
       "      <th>3</th>\n",
       "      <td>102019</td>\n",
       "      <td>2</td>\n",
       "      <td>6</td>\n",
       "      <td>2</td>\n",
       "      <td>1</td>\n",
       "    </tr>\n",
       "    <tr>\n",
       "      <th>4</th>\n",
       "      <td>189384</td>\n",
       "      <td>7</td>\n",
       "      <td>25</td>\n",
       "      <td>2</td>\n",
       "      <td>1</td>\n",
       "    </tr>\n",
       "  </tbody>\n",
       "</table>\n",
       "</div>"
      ],
      "text/plain": [
       "   visitorid  num_items_viewed  view_count  bought_count  purchased\n",
       "0     599528                 2          15             1          1\n",
       "1     121688                13          15            11          1\n",
       "2     552148                 1           1             1          1\n",
       "3     102019                 2           6             2          1\n",
       "4     189384                 7          25             2          1"
      ]
     },
     "execution_count": 153,
     "metadata": {},
     "output_type": "execute_result"
    }
   ],
   "source": [
    "buying_visitors_df.head()"
   ]
  },
  {
   "cell_type": "code",
   "execution_count": 152,
   "id": "06015a14",
   "metadata": {},
   "outputs": [
    {
     "data": {
      "text/plain": [
       "(11719, 5)"
      ]
     },
     "execution_count": 152,
     "metadata": {},
     "output_type": "execute_result"
    }
   ],
   "source": [
    "buying_visitors_df.shape"
   ]
  },
  {
   "cell_type": "code",
   "execution_count": 154,
   "id": "4ef3f57e",
   "metadata": {},
   "outputs": [
    {
     "data": {
      "text/html": [
       "<div>\n",
       "<style scoped>\n",
       "    .dataframe tbody tr th:only-of-type {\n",
       "        vertical-align: middle;\n",
       "    }\n",
       "\n",
       "    .dataframe tbody tr th {\n",
       "        vertical-align: top;\n",
       "    }\n",
       "\n",
       "    .dataframe thead th {\n",
       "        text-align: right;\n",
       "    }\n",
       "</style>\n",
       "<table border=\"1\" class=\"dataframe\">\n",
       "  <thead>\n",
       "    <tr style=\"text-align: right;\">\n",
       "      <th></th>\n",
       "      <th>visitorid</th>\n",
       "      <th>num_items_viewed</th>\n",
       "      <th>view_count</th>\n",
       "      <th>bought_count</th>\n",
       "      <th>purchased</th>\n",
       "    </tr>\n",
       "  </thead>\n",
       "  <tbody>\n",
       "    <tr>\n",
       "      <th>0</th>\n",
       "      <td>0</td>\n",
       "      <td>3</td>\n",
       "      <td>3</td>\n",
       "      <td>0</td>\n",
       "      <td>0</td>\n",
       "    </tr>\n",
       "    <tr>\n",
       "      <th>1</th>\n",
       "      <td>1</td>\n",
       "      <td>1</td>\n",
       "      <td>1</td>\n",
       "      <td>0</td>\n",
       "      <td>0</td>\n",
       "    </tr>\n",
       "    <tr>\n",
       "      <th>2</th>\n",
       "      <td>2</td>\n",
       "      <td>4</td>\n",
       "      <td>8</td>\n",
       "      <td>0</td>\n",
       "      <td>0</td>\n",
       "    </tr>\n",
       "    <tr>\n",
       "      <th>3</th>\n",
       "      <td>3</td>\n",
       "      <td>1</td>\n",
       "      <td>1</td>\n",
       "      <td>0</td>\n",
       "      <td>0</td>\n",
       "    </tr>\n",
       "    <tr>\n",
       "      <th>4</th>\n",
       "      <td>4</td>\n",
       "      <td>1</td>\n",
       "      <td>1</td>\n",
       "      <td>0</td>\n",
       "      <td>0</td>\n",
       "    </tr>\n",
       "  </tbody>\n",
       "</table>\n",
       "</div>"
      ],
      "text/plain": [
       "   visitorid  num_items_viewed  view_count  bought_count  purchased\n",
       "0          0                 3           3             0          0\n",
       "1          1                 1           1             0          0\n",
       "2          2                 4           8             0          0\n",
       "3          3                 1           1             0          0\n",
       "4          4                 1           1             0          0"
      ]
     },
     "execution_count": 154,
     "metadata": {},
     "output_type": "execute_result"
    }
   ],
   "source": [
    "viewing_visitors_df.head()"
   ]
  },
  {
   "cell_type": "code",
   "execution_count": 155,
   "id": "39082623",
   "metadata": {},
   "outputs": [
    {
     "data": {
      "text/plain": [
       "(1395861, 5)"
      ]
     },
     "execution_count": 155,
     "metadata": {},
     "output_type": "execute_result"
    }
   ],
   "source": [
    "viewing_visitors_df.shape"
   ]
  },
  {
   "cell_type": "code",
   "execution_count": 156,
   "id": "78b7c308",
   "metadata": {},
   "outputs": [],
   "source": [
    "viewing_visitors_df2 = viewing_visitors_df[:27821]"
   ]
  },
  {
   "cell_type": "code",
   "execution_count": 157,
   "id": "477c7a2b",
   "metadata": {},
   "outputs": [
    {
     "data": {
      "text/html": [
       "<div>\n",
       "<style scoped>\n",
       "    .dataframe tbody tr th:only-of-type {\n",
       "        vertical-align: middle;\n",
       "    }\n",
       "\n",
       "    .dataframe tbody tr th {\n",
       "        vertical-align: top;\n",
       "    }\n",
       "\n",
       "    .dataframe thead th {\n",
       "        text-align: right;\n",
       "    }\n",
       "</style>\n",
       "<table border=\"1\" class=\"dataframe\">\n",
       "  <thead>\n",
       "    <tr style=\"text-align: right;\">\n",
       "      <th></th>\n",
       "      <th>visitorid</th>\n",
       "      <th>num_items_viewed</th>\n",
       "      <th>view_count</th>\n",
       "      <th>bought_count</th>\n",
       "      <th>purchased</th>\n",
       "    </tr>\n",
       "  </thead>\n",
       "  <tbody>\n",
       "    <tr>\n",
       "      <th>0</th>\n",
       "      <td>0</td>\n",
       "      <td>3</td>\n",
       "      <td>3</td>\n",
       "      <td>0</td>\n",
       "      <td>0</td>\n",
       "    </tr>\n",
       "    <tr>\n",
       "      <th>1</th>\n",
       "      <td>1</td>\n",
       "      <td>1</td>\n",
       "      <td>1</td>\n",
       "      <td>0</td>\n",
       "      <td>0</td>\n",
       "    </tr>\n",
       "    <tr>\n",
       "      <th>2</th>\n",
       "      <td>2</td>\n",
       "      <td>4</td>\n",
       "      <td>8</td>\n",
       "      <td>0</td>\n",
       "      <td>0</td>\n",
       "    </tr>\n",
       "    <tr>\n",
       "      <th>3</th>\n",
       "      <td>3</td>\n",
       "      <td>1</td>\n",
       "      <td>1</td>\n",
       "      <td>0</td>\n",
       "      <td>0</td>\n",
       "    </tr>\n",
       "    <tr>\n",
       "      <th>4</th>\n",
       "      <td>4</td>\n",
       "      <td>1</td>\n",
       "      <td>1</td>\n",
       "      <td>0</td>\n",
       "      <td>0</td>\n",
       "    </tr>\n",
       "    <tr>\n",
       "      <th>...</th>\n",
       "      <td>...</td>\n",
       "      <td>...</td>\n",
       "      <td>...</td>\n",
       "      <td>...</td>\n",
       "      <td>...</td>\n",
       "    </tr>\n",
       "    <tr>\n",
       "      <th>27816</th>\n",
       "      <td>28029</td>\n",
       "      <td>1</td>\n",
       "      <td>1</td>\n",
       "      <td>0</td>\n",
       "      <td>0</td>\n",
       "    </tr>\n",
       "    <tr>\n",
       "      <th>27817</th>\n",
       "      <td>28030</td>\n",
       "      <td>3</td>\n",
       "      <td>3</td>\n",
       "      <td>0</td>\n",
       "      <td>0</td>\n",
       "    </tr>\n",
       "    <tr>\n",
       "      <th>27818</th>\n",
       "      <td>28031</td>\n",
       "      <td>1</td>\n",
       "      <td>1</td>\n",
       "      <td>0</td>\n",
       "      <td>0</td>\n",
       "    </tr>\n",
       "    <tr>\n",
       "      <th>27819</th>\n",
       "      <td>28032</td>\n",
       "      <td>1</td>\n",
       "      <td>1</td>\n",
       "      <td>0</td>\n",
       "      <td>0</td>\n",
       "    </tr>\n",
       "    <tr>\n",
       "      <th>27820</th>\n",
       "      <td>28033</td>\n",
       "      <td>1</td>\n",
       "      <td>1</td>\n",
       "      <td>0</td>\n",
       "      <td>0</td>\n",
       "    </tr>\n",
       "  </tbody>\n",
       "</table>\n",
       "<p>27821 rows × 5 columns</p>\n",
       "</div>"
      ],
      "text/plain": [
       "       visitorid  num_items_viewed  view_count  bought_count  purchased\n",
       "0              0                 3           3             0          0\n",
       "1              1                 1           1             0          0\n",
       "2              2                 4           8             0          0\n",
       "3              3                 1           1             0          0\n",
       "4              4                 1           1             0          0\n",
       "...          ...               ...         ...           ...        ...\n",
       "27816      28029                 1           1             0          0\n",
       "27817      28030                 3           3             0          0\n",
       "27818      28031                 1           1             0          0\n",
       "27819      28032                 1           1             0          0\n",
       "27820      28033                 1           1             0          0\n",
       "\n",
       "[27821 rows x 5 columns]"
      ]
     },
     "execution_count": 157,
     "metadata": {},
     "output_type": "execute_result"
    }
   ],
   "source": [
    "viewing_visitors_df2"
   ]
  },
  {
   "cell_type": "code",
   "execution_count": 158,
   "id": "67e6c1b9",
   "metadata": {},
   "outputs": [],
   "source": [
    "maindf = pd.concat([buying_visitors_df,viewing_visitors_df2])"
   ]
  },
  {
   "cell_type": "code",
   "execution_count": 159,
   "id": "80c62b40",
   "metadata": {},
   "outputs": [
    {
     "data": {
      "text/html": [
       "<div>\n",
       "<style scoped>\n",
       "    .dataframe tbody tr th:only-of-type {\n",
       "        vertical-align: middle;\n",
       "    }\n",
       "\n",
       "    .dataframe tbody tr th {\n",
       "        vertical-align: top;\n",
       "    }\n",
       "\n",
       "    .dataframe thead th {\n",
       "        text-align: right;\n",
       "    }\n",
       "</style>\n",
       "<table border=\"1\" class=\"dataframe\">\n",
       "  <thead>\n",
       "    <tr style=\"text-align: right;\">\n",
       "      <th></th>\n",
       "      <th>visitorid</th>\n",
       "      <th>num_items_viewed</th>\n",
       "      <th>view_count</th>\n",
       "      <th>bought_count</th>\n",
       "      <th>purchased</th>\n",
       "    </tr>\n",
       "  </thead>\n",
       "  <tbody>\n",
       "    <tr>\n",
       "      <th>0</th>\n",
       "      <td>599528</td>\n",
       "      <td>2</td>\n",
       "      <td>15</td>\n",
       "      <td>1</td>\n",
       "      <td>1</td>\n",
       "    </tr>\n",
       "    <tr>\n",
       "      <th>1</th>\n",
       "      <td>121688</td>\n",
       "      <td>13</td>\n",
       "      <td>15</td>\n",
       "      <td>11</td>\n",
       "      <td>1</td>\n",
       "    </tr>\n",
       "    <tr>\n",
       "      <th>2</th>\n",
       "      <td>552148</td>\n",
       "      <td>1</td>\n",
       "      <td>1</td>\n",
       "      <td>1</td>\n",
       "      <td>1</td>\n",
       "    </tr>\n",
       "    <tr>\n",
       "      <th>3</th>\n",
       "      <td>102019</td>\n",
       "      <td>2</td>\n",
       "      <td>6</td>\n",
       "      <td>2</td>\n",
       "      <td>1</td>\n",
       "    </tr>\n",
       "    <tr>\n",
       "      <th>4</th>\n",
       "      <td>189384</td>\n",
       "      <td>7</td>\n",
       "      <td>25</td>\n",
       "      <td>2</td>\n",
       "      <td>1</td>\n",
       "    </tr>\n",
       "    <tr>\n",
       "      <th>...</th>\n",
       "      <td>...</td>\n",
       "      <td>...</td>\n",
       "      <td>...</td>\n",
       "      <td>...</td>\n",
       "      <td>...</td>\n",
       "    </tr>\n",
       "    <tr>\n",
       "      <th>27816</th>\n",
       "      <td>28029</td>\n",
       "      <td>1</td>\n",
       "      <td>1</td>\n",
       "      <td>0</td>\n",
       "      <td>0</td>\n",
       "    </tr>\n",
       "    <tr>\n",
       "      <th>27817</th>\n",
       "      <td>28030</td>\n",
       "      <td>3</td>\n",
       "      <td>3</td>\n",
       "      <td>0</td>\n",
       "      <td>0</td>\n",
       "    </tr>\n",
       "    <tr>\n",
       "      <th>27818</th>\n",
       "      <td>28031</td>\n",
       "      <td>1</td>\n",
       "      <td>1</td>\n",
       "      <td>0</td>\n",
       "      <td>0</td>\n",
       "    </tr>\n",
       "    <tr>\n",
       "      <th>27819</th>\n",
       "      <td>28032</td>\n",
       "      <td>1</td>\n",
       "      <td>1</td>\n",
       "      <td>0</td>\n",
       "      <td>0</td>\n",
       "    </tr>\n",
       "    <tr>\n",
       "      <th>27820</th>\n",
       "      <td>28033</td>\n",
       "      <td>1</td>\n",
       "      <td>1</td>\n",
       "      <td>0</td>\n",
       "      <td>0</td>\n",
       "    </tr>\n",
       "  </tbody>\n",
       "</table>\n",
       "<p>39540 rows × 5 columns</p>\n",
       "</div>"
      ],
      "text/plain": [
       "       visitorid  num_items_viewed  view_count  bought_count  purchased\n",
       "0         599528                 2          15             1          1\n",
       "1         121688                13          15            11          1\n",
       "2         552148                 1           1             1          1\n",
       "3         102019                 2           6             2          1\n",
       "4         189384                 7          25             2          1\n",
       "...          ...               ...         ...           ...        ...\n",
       "27816      28029                 1           1             0          0\n",
       "27817      28030                 3           3             0          0\n",
       "27818      28031                 1           1             0          0\n",
       "27819      28032                 1           1             0          0\n",
       "27820      28033                 1           1             0          0\n",
       "\n",
       "[39540 rows x 5 columns]"
      ]
     },
     "execution_count": 159,
     "metadata": {},
     "output_type": "execute_result"
    }
   ],
   "source": [
    "maindf"
   ]
  },
  {
   "cell_type": "code",
   "execution_count": 165,
   "id": "af7bef65",
   "metadata": {},
   "outputs": [
    {
     "data": {
      "image/png": "[encoded data removed]",
      "text/plain": [
       "<Figure size 750x750 with 12 Axes>"
      ]
     },
     "metadata": {},
     "output_type": "display_data"
    }
   ],
   "source": [
    "sns.pairplot(x_vars=['num_items_viewed','view_count','bought_count'],y_vars=['num_items_viewed','view_count','bought_count'],data=maindf)\n",
    "plt.show()"
   ]
  },
  {
   "cell_type": "markdown",
   "id": "f5623396",
   "metadata": {},
   "source": [
    "## As the numer of items_viewed increase bought_count increases\n",
    "## As the views increases bought count increases\n",
    "## there is the linear relationship \n",
    "## This is a classification problem that predicts whether the user will purchase and item or not, so we will apply Logistic Regression for model training"
   ]
  },
  {
   "cell_type": "code",
   "execution_count": 172,
   "id": "91612e8c",
   "metadata": {},
   "outputs": [],
   "source": [
    "X = maindf[['view_count','bought_count']]\n",
    "y = maindf['purchased']"
   ]
  },
  {
   "cell_type": "code",
   "execution_count": 173,
   "id": "b3f9a187",
   "metadata": {},
   "outputs": [],
   "source": [
    "X_train,X_test,y_train,y_test = train_test_split(X,y,random_state=10,test_size=0.25)"
   ]
  },
  {
   "cell_type": "code",
   "execution_count": 174,
   "id": "f6654627",
   "metadata": {},
   "outputs": [
    {
     "data": {
      "text/plain": [
       "1.0"
      ]
     },
     "execution_count": 174,
     "metadata": {},
     "output_type": "execute_result"
    }
   ],
   "source": [
    "model = LogisticRegression()\n",
    "model.fit(X_train,y_train)\n",
    "model.score(X_test,y_test)"
   ]
  },
  {
   "cell_type": "code",
   "execution_count": 176,
   "id": "458e9c8e",
   "metadata": {},
   "outputs": [
    {
     "data": {
      "text/plain": [
       "(array([ 0.02892563, 13.49378179]), -7.410318195350437)"
      ]
     },
     "execution_count": 176,
     "metadata": {},
     "output_type": "execute_result"
    }
   ],
   "source": [
    "w,b = model.coef_[0],model.intercept_[0]\n",
    "w,b"
   ]
  },
  {
   "cell_type": "code",
   "execution_count": 177,
   "id": "b3ac9e18",
   "metadata": {},
   "outputs": [
    {
     "data": {
      "text/plain": [
       "0         8.589682\n",
       "1        18.589682\n",
       "2        -5.410318\n",
       "3         0.589682\n",
       "4        19.589682\n",
       "           ...    \n",
       "27816    -6.410318\n",
       "27817    -4.410318\n",
       "27818    -6.410318\n",
       "27819    -6.410318\n",
       "27820    -6.410318\n",
       "Length: 39540, dtype: float64"
      ]
     },
     "execution_count": 177,
     "metadata": {},
     "output_type": "execute_result"
    }
   ],
   "source": [
    "X.view_count+X.bought_count+b"
   ]
  },
  {
   "cell_type": "code",
   "execution_count": 178,
   "id": "df83d094",
   "metadata": {},
   "outputs": [],
   "source": [
    "y_predict = X.view_count+X.bought_count+b"
   ]
  },
  {
   "cell_type": "code",
   "execution_count": null,
   "id": "81b2bef3",
   "metadata": {},
   "outputs": [],
   "source": [
    "y_predict = X.view_count+X.bought_count+b"
   ]
  },
  {
   "cell_type": "code",
   "execution_count": 181,
   "id": "b0b963a6",
   "metadata": {},
   "outputs": [
    {
     "data": {
      "text/plain": [
       "0        0.999814\n",
       "1        1.000000\n",
       "2        0.004450\n",
       "3        0.643292\n",
       "4        1.000000\n",
       "           ...   \n",
       "27816    0.001642\n",
       "27817    0.012005\n",
       "27818    0.001642\n",
       "27819    0.001642\n",
       "27820    0.001642\n",
       "Length: 39540, dtype: float64"
      ]
     },
     "execution_count": 181,
     "metadata": {},
     "output_type": "execute_result"
    }
   ],
   "source": [
    "1/(1+np.exp(-y_predict))"
   ]
  },
  {
   "cell_type": "code",
   "execution_count": 182,
   "id": "03c65832",
   "metadata": {},
   "outputs": [],
   "source": [
    "p = 1/(1+np.exp(-y_predict))"
   ]
  },
  {
   "cell_type": "code",
   "execution_count": 386,
   "id": "624c0078",
   "metadata": {},
   "outputs": [
    {
     "data": {
      "text/plain": [
       "[1, 1, 0, 1, 1, 1, 1, 0, 0, 1]"
      ]
     },
     "execution_count": 386,
     "metadata": {},
     "output_type": "execute_result"
    }
   ],
   "source": [
    "y_predict = [1 if i > 0.5 else 0 for i in p]\n",
    "y_predict[:10]"
   ]
  },
  {
   "cell_type": "code",
   "execution_count": 191,
   "id": "7eb77b93",
   "metadata": {},
   "outputs": [],
   "source": [
    "y_predict = model.predict(X_test)"
   ]
  },
  {
   "cell_type": "code",
   "execution_count": 192,
   "id": "316f100b",
   "metadata": {},
   "outputs": [
    {
     "data": {
      "text/plain": [
       "<sklearn.metrics._plot.confusion_matrix.ConfusionMatrixDisplay at 0x281289be0>"
      ]
     },
     "execution_count": 192,
     "metadata": {},
     "output_type": "execute_result"
    },
    {
     "data": {
      "image/png": "[encoded data removed]",
      "text/plain": [
       "<Figure size 640x480 with 2 Axes>"
      ]
     },
     "metadata": {},
     "output_type": "display_data"
    }
   ],
   "source": [
    "ConfusionMatrixDisplay.from_predictions(y_test,y_predict)"
   ]
  },
  {
   "cell_type": "code",
   "execution_count": 193,
   "id": "2caa66ad",
   "metadata": {},
   "outputs": [],
   "source": [
    "X = maindf[['view_count','bought_count','num_items_viewed']]\n",
    "y = maindf['purchased']"
   ]
  },
  {
   "cell_type": "code",
   "execution_count": 194,
   "id": "b4c65a9e",
   "metadata": {},
   "outputs": [],
   "source": [
    "X_train,X_test,y_train,y_test = train_test_split(X,y,random_state=10,test_size=0.25)"
   ]
  },
  {
   "cell_type": "code",
   "execution_count": 195,
   "id": "6e4bbf4f",
   "metadata": {},
   "outputs": [
    {
     "data": {
      "text/plain": [
       "1.0"
      ]
     },
     "execution_count": 195,
     "metadata": {},
     "output_type": "execute_result"
    }
   ],
   "source": [
    "model = LogisticRegression()\n",
    "model.fit(X_train,y_train)\n",
    "model.score(X_test,y_test)"
   ]
  },
  {
   "cell_type": "markdown",
   "id": "1ba4ce59",
   "metadata": {},
   "source": [
    "## Create Randomness in input data"
   ]
  },
  {
   "cell_type": "code",
   "execution_count": 316,
   "id": "ddadb150",
   "metadata": {},
   "outputs": [],
   "source": [
    "import random\n",
    "random.shuffle(buying_visitors_list)\n",
    "buying_visitors_df = create_dataframe(buying_visitors_list)"
   ]
  },
  {
   "cell_type": "code",
   "execution_count": 317,
   "id": "4fc3ef45",
   "metadata": {},
   "outputs": [],
   "source": [
    "import random\n",
    "random.shuffle(viewing_visitors_list)"
   ]
  },
  {
   "cell_type": "code",
   "execution_count": 318,
   "id": "3f3b25b8",
   "metadata": {},
   "outputs": [],
   "source": [
    "viewing_visitor_df = create_dataframe(viewing_visitors_list[0:27820])"
   ]
  },
  {
   "cell_type": "code",
   "execution_count": 346,
   "id": "4cdc1025",
   "metadata": {},
   "outputs": [],
   "source": [
    "maindf = pd.concat([viewing_visitors_df,buying_visitors_df])"
   ]
  },
  {
   "cell_type": "code",
   "execution_count": 347,
   "id": "fa1311b3",
   "metadata": {},
   "outputs": [
    {
     "data": {
      "text/html": [
       "<div>\n",
       "<style scoped>\n",
       "    .dataframe tbody tr th:only-of-type {\n",
       "        vertical-align: middle;\n",
       "    }\n",
       "\n",
       "    .dataframe tbody tr th {\n",
       "        vertical-align: top;\n",
       "    }\n",
       "\n",
       "    .dataframe thead th {\n",
       "        text-align: right;\n",
       "    }\n",
       "</style>\n",
       "<table border=\"1\" class=\"dataframe\">\n",
       "  <thead>\n",
       "    <tr style=\"text-align: right;\">\n",
       "      <th></th>\n",
       "      <th>visitorid</th>\n",
       "      <th>num_items_viewed</th>\n",
       "      <th>view_count</th>\n",
       "      <th>bought_count</th>\n",
       "      <th>purchased</th>\n",
       "    </tr>\n",
       "  </thead>\n",
       "  <tbody>\n",
       "    <tr>\n",
       "      <th>0</th>\n",
       "      <td>0</td>\n",
       "      <td>3</td>\n",
       "      <td>3</td>\n",
       "      <td>0</td>\n",
       "      <td>0</td>\n",
       "    </tr>\n",
       "    <tr>\n",
       "      <th>1</th>\n",
       "      <td>1</td>\n",
       "      <td>1</td>\n",
       "      <td>1</td>\n",
       "      <td>0</td>\n",
       "      <td>0</td>\n",
       "    </tr>\n",
       "    <tr>\n",
       "      <th>2</th>\n",
       "      <td>2</td>\n",
       "      <td>4</td>\n",
       "      <td>8</td>\n",
       "      <td>0</td>\n",
       "      <td>0</td>\n",
       "    </tr>\n",
       "    <tr>\n",
       "      <th>3</th>\n",
       "      <td>3</td>\n",
       "      <td>1</td>\n",
       "      <td>1</td>\n",
       "      <td>0</td>\n",
       "      <td>0</td>\n",
       "    </tr>\n",
       "    <tr>\n",
       "      <th>4</th>\n",
       "      <td>4</td>\n",
       "      <td>1</td>\n",
       "      <td>1</td>\n",
       "      <td>0</td>\n",
       "      <td>0</td>\n",
       "    </tr>\n",
       "    <tr>\n",
       "      <th>...</th>\n",
       "      <td>...</td>\n",
       "      <td>...</td>\n",
       "      <td>...</td>\n",
       "      <td>...</td>\n",
       "      <td>...</td>\n",
       "    </tr>\n",
       "    <tr>\n",
       "      <th>11714</th>\n",
       "      <td>482401</td>\n",
       "      <td>1</td>\n",
       "      <td>3</td>\n",
       "      <td>1</td>\n",
       "      <td>1</td>\n",
       "    </tr>\n",
       "    <tr>\n",
       "      <th>11715</th>\n",
       "      <td>574370</td>\n",
       "      <td>15</td>\n",
       "      <td>24</td>\n",
       "      <td>1</td>\n",
       "      <td>1</td>\n",
       "    </tr>\n",
       "    <tr>\n",
       "      <th>11716</th>\n",
       "      <td>1017798</td>\n",
       "      <td>2</td>\n",
       "      <td>2</td>\n",
       "      <td>1</td>\n",
       "      <td>1</td>\n",
       "    </tr>\n",
       "    <tr>\n",
       "      <th>11717</th>\n",
       "      <td>658473</td>\n",
       "      <td>2</td>\n",
       "      <td>2</td>\n",
       "      <td>1</td>\n",
       "      <td>1</td>\n",
       "    </tr>\n",
       "    <tr>\n",
       "      <th>11718</th>\n",
       "      <td>297868</td>\n",
       "      <td>1</td>\n",
       "      <td>1</td>\n",
       "      <td>1</td>\n",
       "      <td>1</td>\n",
       "    </tr>\n",
       "  </tbody>\n",
       "</table>\n",
       "<p>1407580 rows × 5 columns</p>\n",
       "</div>"
      ],
      "text/plain": [
       "       visitorid  num_items_viewed  view_count  bought_count  purchased\n",
       "0              0                 3           3             0          0\n",
       "1              1                 1           1             0          0\n",
       "2              2                 4           8             0          0\n",
       "3              3                 1           1             0          0\n",
       "4              4                 1           1             0          0\n",
       "...          ...               ...         ...           ...        ...\n",
       "11714     482401                 1           3             1          1\n",
       "11715     574370                15          24             1          1\n",
       "11716    1017798                 2           2             1          1\n",
       "11717     658473                 2           2             1          1\n",
       "11718     297868                 1           1             1          1\n",
       "\n",
       "[1407580 rows x 5 columns]"
      ]
     },
     "execution_count": 347,
     "metadata": {},
     "output_type": "execute_result"
    }
   ],
   "source": [
    "maindf"
   ]
  },
  {
   "cell_type": "code",
   "execution_count": 369,
   "id": "bf47fc0f",
   "metadata": {},
   "outputs": [
    {
     "data": {
      "text/plain": [
       "(985306,)"
      ]
     },
     "execution_count": 369,
     "metadata": {},
     "output_type": "execute_result"
    }
   ],
   "source": [
    "ids = maindf['visitorid'][422274:]\n",
    "ids.shape"
   ]
  },
  {
   "cell_type": "code",
   "execution_count": 361,
   "id": "246aa64f",
   "metadata": {},
   "outputs": [],
   "source": [
    "X = maindf[['view_count','bought_count','num_items_viewed']]\n",
    "y = maindf['purchased']"
   ]
  },
  {
   "cell_type": "code",
   "execution_count": 362,
   "id": "c06b239c",
   "metadata": {},
   "outputs": [],
   "source": [
    "X_train,X_test,y_train,y_test = train_test_split(X,y,random_state=10,test_size=0.7)"
   ]
  },
  {
   "cell_type": "code",
   "execution_count": 363,
   "id": "77dc8be4",
   "metadata": {},
   "outputs": [
    {
     "data": {
      "text/plain": [
       "(422274, 3)"
      ]
     },
     "execution_count": 363,
     "metadata": {},
     "output_type": "execute_result"
    }
   ],
   "source": [
    "X_train.shape"
   ]
  },
  {
   "cell_type": "code",
   "execution_count": 364,
   "id": "87b3fcd8",
   "metadata": {},
   "outputs": [],
   "source": [
    "model = LogisticRegression()"
   ]
  },
  {
   "cell_type": "code",
   "execution_count": 365,
   "id": "7d79491a",
   "metadata": {},
   "outputs": [
    {
     "data": {
      "text/plain": [
       "0.9999989850868665"
      ]
     },
     "execution_count": 365,
     "metadata": {},
     "output_type": "execute_result"
    }
   ],
   "source": [
    "model.fit(X_train,y_train)\n",
    "model.score(X_test,y_test)"
   ]
  },
  {
   "cell_type": "code",
   "execution_count": 366,
   "id": "ad18b59d",
   "metadata": {},
   "outputs": [
    {
     "data": {
      "text/plain": [
       "array([0, 0, 0, ..., 0, 0, 0])"
      ]
     },
     "execution_count": 366,
     "metadata": {},
     "output_type": "execute_result"
    }
   ],
   "source": [
    "y_predict = model.predict(X_test)\n",
    "y_predict"
   ]
  },
  {
   "cell_type": "code",
   "execution_count": 367,
   "id": "89804a40",
   "metadata": {},
   "outputs": [
    {
     "data": {
      "text/plain": [
       "(985306,)"
      ]
     },
     "execution_count": 367,
     "metadata": {},
     "output_type": "execute_result"
    }
   ],
   "source": [
    "y_predict.shape"
   ]
  },
  {
   "cell_type": "code",
   "execution_count": 327,
   "id": "f79f6c6a",
   "metadata": {},
   "outputs": [
    {
     "data": {
      "image/png": "[encoded data removed]",
      "text/plain": [
       "<Figure size 640x480 with 1 Axes>"
      ]
     },
     "metadata": {},
     "output_type": "display_data"
    }
   ],
   "source": [
    "# Generate the prediction values for each of the test observations using predict_proba() function rather than just predict\n",
    "preds = model.predict_proba(X_test)[:,1]\n",
    "\n",
    "# Store the false positive rate(fpr), true positive rate (tpr) in vectors for use in the graph\n",
    "fpr, tpr, _ = metrics.roc_curve(y_test, preds)\n",
    "\n",
    "# Store the Area Under the Curve (AUC) so we can annotate our graph with theis metric\n",
    "roc_auc = metrics.auc(fpr, tpr)\n",
    "\n",
    "# Plot the ROC Curve\n",
    "plt.figure()\n",
    "lw = 2\n",
    "plt.plot(fpr, tpr, color='darkorange', lw = lw, label = 'ROC curve (area = %0.2f)' % roc_auc)\n",
    "plt.plot([0, 1], [0, 1], color = 'navy', lw = lw, linestyle = '--')\n",
    "plt.xlim([0.0, 1.0])\n",
    "plt.ylim([0.0, 1.05])\n",
    "plt.xlabel('False Positive Rate')\n",
    "plt.ylabel('True Positive Rate')\n",
    "plt.title('Receiver operating characteristic')\n",
    "plt.legend(loc = \"lower right\")\n",
    "plt.show()"
   ]
  },
  {
   "cell_type": "markdown",
   "id": "10ede761",
   "metadata": {},
   "source": [
    "This shows that the model is perfect model with just 0.1% of error. This may be because of overtting.\n",
    "\n",
    "I will improve the model performance in other projects. The purpose of this project is recommender systems and this is \n",
    "rightly acheived."
   ]
  },
  {
   "cell_type": "code",
   "execution_count": 373,
   "id": "635b5738",
   "metadata": {},
   "outputs": [],
   "source": [
    "result_df = pd.DataFrame({\n",
    "    'VisitorId': ids,  # Extract IDs from the original DataFrame\n",
    "    'Purchase': y_predict\n",
    "})\n",
    "\n",
    "# Save to Excel\n",
    "result_df.to_csv('/Users/navyatrilok/Documents/DATASCIENCE/Kaggle/RetailRocket-Recommender-Systems/Predictions.csv', index=False)"
   ]
  },
  {
   "cell_type": "code",
   "execution_count": 374,
   "id": "440adde7",
   "metadata": {},
   "outputs": [
    {
     "data": {
      "text/html": [
       "<div>\n",
       "<style scoped>\n",
       "    .dataframe tbody tr th:only-of-type {\n",
       "        vertical-align: middle;\n",
       "    }\n",
       "\n",
       "    .dataframe tbody tr th {\n",
       "        vertical-align: top;\n",
       "    }\n",
       "\n",
       "    .dataframe thead th {\n",
       "        text-align: right;\n",
       "    }\n",
       "</style>\n",
       "<table border=\"1\" class=\"dataframe\">\n",
       "  <thead>\n",
       "    <tr style=\"text-align: right;\">\n",
       "      <th></th>\n",
       "      <th>VisitorId</th>\n",
       "      <th>Purchase</th>\n",
       "    </tr>\n",
       "  </thead>\n",
       "  <tbody>\n",
       "    <tr>\n",
       "      <th>0</th>\n",
       "      <td>425755</td>\n",
       "      <td>0</td>\n",
       "    </tr>\n",
       "    <tr>\n",
       "      <th>1</th>\n",
       "      <td>425756</td>\n",
       "      <td>0</td>\n",
       "    </tr>\n",
       "    <tr>\n",
       "      <th>2</th>\n",
       "      <td>425757</td>\n",
       "      <td>0</td>\n",
       "    </tr>\n",
       "    <tr>\n",
       "      <th>3</th>\n",
       "      <td>425758</td>\n",
       "      <td>0</td>\n",
       "    </tr>\n",
       "    <tr>\n",
       "      <th>4</th>\n",
       "      <td>425759</td>\n",
       "      <td>0</td>\n",
       "    </tr>\n",
       "  </tbody>\n",
       "</table>\n",
       "</div>"
      ],
      "text/plain": [
       "   VisitorId  Purchase\n",
       "0     425755         0\n",
       "1     425756         0\n",
       "2     425757         0\n",
       "3     425758         0\n",
       "4     425759         0"
      ]
     },
     "execution_count": 374,
     "metadata": {},
     "output_type": "execute_result"
    }
   ],
   "source": [
    "results = pd.read_csv('/Users/navyatrilok/Documents/DATASCIENCE/Kaggle/RetailRocket-Recommender-Systems/Predictions.csv')\n",
    "results.head()"
   ]
  },
  {
   "cell_type": "code",
   "execution_count": 377,
   "id": "c41bfd92",
   "metadata": {},
   "outputs": [],
   "source": [
    "campaign_list = results[results.Purchase == 0].VisitorId.unique()"
   ]
  },
  {
   "cell_type": "code",
   "execution_count": 387,
   "id": "abc07fbb",
   "metadata": {},
   "outputs": [
    {
     "data": {
      "text/plain": [
       "array([425755, 425756, 425757, 425758, 425759, 425760, 425761, 425762,\n",
       "       425763, 425764])"
      ]
     },
     "execution_count": 387,
     "metadata": {},
     "output_type": "execute_result"
    }
   ],
   "source": [
    "campaign_list[:10]"
   ]
  },
  {
   "cell_type": "markdown",
   "id": "897370c2",
   "metadata": {},
   "source": [
    "## These are the items model predicted that there will be no purchase, send these items for ad campaining or business should stop buying these items from its vendor as there will be no sales for these products"
   ]
  },
  {
   "cell_type": "code",
   "execution_count": null,
   "id": "366b27fc",
   "metadata": {},
   "outputs": [],
   "source": []
  }
 ],
 "metadata": {
  "kernelspec": {
   "display_name": "Python 3 (ipykernel)",
   "language": "python",
   "name": "python3"
  },
  "language_info": {
   "codemirror_mode": {
    "name": "ipython",
    "version": 3
   },
   "file_extension": ".py",
   "mimetype": "text/x-python",
   "name": "python",
   "nbconvert_exporter": "python",
   "pygments_lexer": "ipython3",
   "version": "3.9.13"
  }
 },
 "nbformat": 4,
 "nbformat_minor": 5
}
